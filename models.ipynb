{
 "cells": [
  {
   "cell_type": "code",
   "execution_count": 1,
   "metadata": {
    "collapsed": false
   },
   "outputs": [
    {
     "name": "stderr",
     "output_type": "stream",
     "text": [
      "Using Theano backend.\n"
     ]
    }
   ],
   "source": [
    "import pickle\n",
    "import numpy as np\n",
    "import re\n",
    "from datetime import datetime\n",
    "import matplotlib.pyplot as plt\n",
    "from matplotlib.dates import YearLocator, MonthLocator, DateFormatter\n",
    "from stop_words import get_stop_words\n",
    "import Stemmer\n",
    "from sklearn.feature_extraction.text import CountVectorizer, TfidfVectorizer\n",
    "from sklearn.cross_validation import train_test_split, cross_val_score\n",
    "from sklearn import linear_model as lm\n",
    "from sklearn import ensemble\n",
    "from sklearn import metrics\n",
    "from sklearn.decomposition import RandomizedPCA\n",
    "from sklearn.manifold import TSNE\n",
    "import xgboost as xgb \n",
    "from gensim import corpora, models\n",
    "from segtok import segmenter\n",
    "from sklearn import svm\n",
    "from sklearn.preprocessing import StandardScaler, MinMaxScaler\n",
    "import glob\n",
    "from collections import defaultdict\n",
    "import copy\n",
    "import pandas as pd\n",
    "from keras.models import Sequential\n",
    "from keras.layers import Dense, Dropout, Activation\n",
    "from keras.wrappers.scikit_learn import KerasClassifier\n",
    "from keras.utils import np_utils\n",
    "from keras.layers.advanced_activations import PReLU\n",
    "from keras.optimizers import SGD\n",
    "from gensim.models import word2vec\n",
    "import config\n",
    "%matplotlib inline"
   ]
  },
  {
   "cell_type": "code",
   "execution_count": 42,
   "metadata": {
    "collapsed": false
   },
   "outputs": [],
   "source": [
    "X_train_Tfidf = pd.read_csv('features/X_train_Tfidf.csv.gz')\n",
    "X_test_Tfidf = pd.read_csv('features/X_test_Tfidf.csv.gz')\n",
    "X_train_lda = pd.read_csv('features/X_train_lda.csv.gz')\n",
    "X_test_lda = pd.read_csv('features/X_test_lda.csv.gz')\n",
    "X_train_word2vec = pd.read_csv('features/X_train_word2vec.csv.gz')\n",
    "X_test_word2vec = pd.read_csv('features/X_test_word2vec.csv.gz')\n",
    "y_train = pd.read_csv('features/y_train.csv.gz')\n",
    "y_test = pd.read_csv('features/y_test.csv.gz')"
   ]
  },
  {
   "cell_type": "code",
   "execution_count": 28,
   "metadata": {
    "collapsed": false
   },
   "outputs": [],
   "source": [
    "X_train_Tfidf.columns = ['tfidf_{}'.format(i) for i in range(1000)]\n",
    "X_test_Tfidf.columns = ['tfidf_{}'.format(i) for i in range(1000)]\n",
    "X_train_lda.columns = ['lda_{}'.format(i) for i in range(100)]\n",
    "X_test_lda.columns = ['lda_{}'.format(i) for i in range(100)]\n",
    "X_train_word2vec.columns = ['word2vec_{}'.format(i) for i in range(200)]\n",
    "X_test_word2vec.columns = ['word2vec{}'.format(i) for i in range(200)]"
   ]
  },
  {
   "cell_type": "code",
   "execution_count": 103,
   "metadata": {
    "collapsed": false
   },
   "outputs": [],
   "source": [
    "X_train = pd.concat([X_train_Tfidf, X_train_lda, X_train_word2vec, y_train], axis=1)\n",
    "X_test = pd.concat([X_test_Tfidf, X_test_lda, X_test_word2vec, y_test], axis=1)"
   ]
  },
  {
   "cell_type": "code",
   "execution_count": 104,
   "metadata": {
    "collapsed": false
   },
   "outputs": [],
   "source": [
    "X_train.dropna(inplace=True)\n",
    "X_test.dropna(inplace=True)\n",
    "X_train.reset_index(drop=True, inplace=True)\n",
    "X_test.reset_index(drop=True, inplace=True)"
   ]
  },
  {
   "cell_type": "code",
   "execution_count": 105,
   "metadata": {
    "collapsed": true
   },
   "outputs": [],
   "source": [
    "y_train = X_train['y']\n",
    "y_test = X_test['y']"
   ]
  },
  {
   "cell_type": "code",
   "execution_count": 106,
   "metadata": {
    "collapsed": false
   },
   "outputs": [],
   "source": [
    "X_train.drop('y', inplace=True, axis=1)\n",
    "X_test.drop('y', inplace=True, axis=1)"
   ]
  },
  {
   "cell_type": "code",
   "execution_count": 107,
   "metadata": {
    "collapsed": false
   },
   "outputs": [
    {
     "data": {
      "text/plain": [
       "LogisticRegression(C=1.0, class_weight=None, dual=False, fit_intercept=True,\n",
       "          intercept_scaling=1, max_iter=100, multi_class='ovr', n_jobs=1,\n",
       "          penalty='l2', random_state=None, solver='liblinear', tol=0.0001,\n",
       "          verbose=0, warm_start=False)"
      ]
     },
     "execution_count": 107,
     "metadata": {},
     "output_type": "execute_result"
    }
   ],
   "source": [
    "lr = lm.LogisticRegression()\n",
    "lr.fit(X_train, y_train)"
   ]
  },
  {
   "cell_type": "code",
   "execution_count": 108,
   "metadata": {
    "collapsed": false
   },
   "outputs": [
    {
     "data": {
      "text/plain": [
       "0.42297587771674228"
      ]
     },
     "execution_count": 108,
     "metadata": {},
     "output_type": "execute_result"
    }
   ],
   "source": [
    "lr.score(X_test, y_test)"
   ]
  },
  {
   "cell_type": "code",
   "execution_count": 91,
   "metadata": {
    "collapsed": false
   },
   "outputs": [
    {
     "data": {
      "text/plain": [
       "GradientBoostingClassifier(init=None, learning_rate=0.1, loss='deviance',\n",
       "              max_depth=3, max_features=None, max_leaf_nodes=None,\n",
       "              min_samples_leaf=1, min_samples_split=2,\n",
       "              min_weight_fraction_leaf=0.0, n_estimators=600,\n",
       "              presort='auto', random_state=None, subsample=1.0, verbose=0,\n",
       "              warm_start=False)"
      ]
     },
     "execution_count": 91,
     "metadata": {},
     "output_type": "execute_result"
    }
   ],
   "source": [
    "rf = ensemble.GradientBoostingClassifier(n_estimators=600)\n",
    "rf.fit(X_train, y_train)"
   ]
  },
  {
   "cell_type": "code",
   "execution_count": 88,
   "metadata": {
    "collapsed": false
   },
   "outputs": [
    {
     "data": {
      "text/plain": [
       "0.42154287079054215"
      ]
     },
     "execution_count": 88,
     "metadata": {},
     "output_type": "execute_result"
    }
   ],
   "source": [
    "rf.score(X_test, y_test)"
   ]
  },
  {
   "cell_type": "code",
   "execution_count": null,
   "metadata": {
    "collapsed": true
   },
   "outputs": [],
   "source": []
  },
  {
   "cell_type": "code",
   "execution_count": 109,
   "metadata": {
    "collapsed": false
   },
   "outputs": [],
   "source": [
    "y_train_cat = np_utils.to_categorical(y_train, 3)\n",
    "y_test_cat = np_utils.to_categorical(y_test, 3)"
   ]
  },
  {
   "cell_type": "code",
   "execution_count": 138,
   "metadata": {
    "collapsed": true
   },
   "outputs": [],
   "source": [
    "model = Sequential()\n",
    "model.add(Dense(512, input_shape=(1300,)))\n",
    "model.add(Activation(PReLU()))\n",
    "model.add(Dropout(0.5))\n",
    "model.add(Dense(64))\n",
    "model.add(Activation(PReLU()))\n",
    "model.add(Dropout(0.5))\n",
    "model.add(Dense(3))\n",
    "model.add(Activation('softmax'))\n",
    "\n",
    "model.compile(loss='categorical_crossentropy',\n",
    "              optimizer='adam',\n",
    "              metrics=['accuracy'])"
   ]
  },
  {
   "cell_type": "code",
   "execution_count": 141,
   "metadata": {
    "collapsed": false
   },
   "outputs": [
    {
     "name": "stdout",
     "output_type": "stream",
     "text": [
      "Train on 15071 samples, validate on 1675 samples\n",
      "Epoch 1/6\n",
      "15071/15071 [==============================] - 2s - loss: 1.0362 - acc: 0.4531 - val_loss: 1.0448 - val_acc: 0.4340\n",
      "Epoch 2/6\n",
      "15071/15071 [==============================] - 2s - loss: 1.0284 - acc: 0.4655 - val_loss: 1.0456 - val_acc: 0.4281\n",
      "Epoch 3/6\n",
      "15071/15071 [==============================] - 2s - loss: 1.0196 - acc: 0.4681 - val_loss: 1.0459 - val_acc: 0.4316\n",
      "Epoch 4/6\n",
      "15071/15071 [==============================] - 2s - loss: 1.0102 - acc: 0.4773 - val_loss: 1.0421 - val_acc: 0.4478\n",
      "Epoch 5/6\n",
      "15071/15071 [==============================] - 2s - loss: 1.0007 - acc: 0.4881 - val_loss: 1.0388 - val_acc: 0.4478\n",
      "Epoch 6/6\n",
      "15071/15071 [==============================] - 2s - loss: 0.9908 - acc: 0.4990 - val_loss: 1.0437 - val_acc: 0.4328\n",
      "CPU times: user 30.9 s, sys: 27.2 s, total: 58 s\n",
      "Wall time: 15.9 s\n"
     ]
    }
   ],
   "source": [
    "%%time\n",
    "history = model.fit(X_train.values, y_train_cat,\n",
    "                    nb_epoch=6, batch_size=512,\n",
    "                    verbose=1, validation_split=0.1, )"
   ]
  },
  {
   "cell_type": "code",
   "execution_count": 142,
   "metadata": {
    "collapsed": false
   },
   "outputs": [
    {
     "name": "stdout",
     "output_type": "stream",
     "text": [
      "4096/4187 [============================>.] - ETA: 0sTest score: 1.0629300278\n",
      "Test accuracy: 0.42751373309\n"
     ]
    }
   ],
   "source": [
    "score = model.evaluate(X_test.values, y_test_cat,\n",
    "                       batch_size=512, verbose=1)\n",
    "print('Test score:', score[0])\n",
    "print('Test accuracy:', score[1])"
   ]
  },
  {
   "cell_type": "code",
   "execution_count": 144,
   "metadata": {
    "collapsed": false
   },
   "outputs": [
    {
     "name": "stdout",
     "output_type": "stream",
     "text": [
      "4187/4187 [==============================] - 0s     \n"
     ]
    }
   ],
   "source": [
    "pred = model.predict_classes(X_test.values, batch_size=512)"
   ]
  },
  {
   "cell_type": "code",
   "execution_count": 154,
   "metadata": {
    "collapsed": false
   },
   "outputs": [
    {
     "data": {
      "text/plain": [
       "0.34845951755433485"
      ]
     },
     "execution_count": 154,
     "metadata": {},
     "output_type": "execute_result"
    }
   ],
   "source": [
    "metrics.accuracy_score(y_test, np.ones_like(y_test))"
   ]
  },
  {
   "cell_type": "code",
   "execution_count": 145,
   "metadata": {
    "collapsed": false
   },
   "outputs": [
    {
     "data": {
      "text/plain": [
       "<matplotlib.colorbar.Colorbar at 0x7f154aa22828>"
      ]
     },
     "execution_count": 145,
     "metadata": {},
     "output_type": "execute_result"
    },
    {
     "data": {
      "image/png": "[encoded data removed]",
      "text/plain": [
       "<matplotlib.figure.Figure at 0x7f156ada6780>"
      ]
     },
     "metadata": {},
     "output_type": "display_data"
    }
   ],
   "source": [
    "matr = metrics.confusion_matrix(y_test, pred)\n",
    "plt.imshow(matr, interpolation='nearest', cmap=plt.cm.Reds)\n",
    "plt.colorbar()"
   ]
  },
  {
   "cell_type": "code",
   "execution_count": null,
   "metadata": {
    "collapsed": true
   },
   "outputs": [],
   "source": []
  }
 ],
 "metadata": {
  "kernelspec": {
   "display_name": "Python 3",
   "language": "python",
   "name": "python3"
  },
  "language_info": {
   "codemirror_mode": {
    "name": "ipython",
    "version": 3
   },
   "file_extension": ".py",
   "mimetype": "text/x-python",
   "name": "python",
   "nbconvert_exporter": "python",
   "pygments_lexer": "ipython3",
   "version": "3.5.1"
  }
 },
 "nbformat": 4,
 "nbformat_minor": 0
}
