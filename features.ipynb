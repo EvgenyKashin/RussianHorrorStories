{
 "cells": [
  {
   "cell_type": "code",
   "execution_count": 1,
   "metadata": {
    "collapsed": false
   },
   "outputs": [
    {
     "name": "stderr",
     "output_type": "stream",
     "text": [
      "Using Theano backend.\n"
     ]
    }
   ],
   "source": [
    "import pickle\n",
    "import numpy as np\n",
    "import re\n",
    "from datetime import datetime\n",
    "import matplotlib.pyplot as plt\n",
    "from matplotlib.dates import YearLocator, MonthLocator, DateFormatter\n",
    "from stop_words import get_stop_words\n",
    "import Stemmer\n",
    "from sklearn.feature_extraction.text import CountVectorizer, TfidfVectorizer\n",
    "from sklearn.cross_validation import train_test_split, cross_val_score\n",
    "from sklearn import linear_model as lm\n",
    "from sklearn import ensemble\n",
    "from sklearn import metrics\n",
    "from sklearn.decomposition import RandomizedPCA\n",
    "from sklearn.manifold import TSNE\n",
    "import xgboost as xgb \n",
    "from gensim import corpora, models\n",
    "from segtok import segmenter\n",
    "from sklearn import svm\n",
    "from sklearn.preprocessing import StandardScaler, MinMaxScaler\n",
    "import glob\n",
    "from collections import defaultdict\n",
    "import copy\n",
    "import pandas as pd\n",
    "from keras.models import Sequential\n",
    "from keras.layers import Dense, Dropout, Activation\n",
    "from keras.wrappers.scikit_learn import KerasClassifier\n",
    "from keras.utils import np_utils\n",
    "from keras.layers.advanced_activations import PReLU\n",
    "from keras.optimizers import SGD\n",
    "from gensim.models import word2vec\n",
    "import config\n",
    "%matplotlib inline"
   ]
  },
  {
   "cell_type": "code",
   "execution_count": 92,
   "metadata": {
    "collapsed": true
   },
   "outputs": [],
   "source": [
    "def read_posts(domain=None, filename=None):\n",
    "    if not filename:\n",
    "        if domain:\n",
    "            filename = 'data/{}.pkl'.format(domain)\n",
    "        else:\n",
    "            raise Exception('Wrong arguments')\n",
    "    with open(filename, 'rb') as f:\n",
    "        posts = pickle.load(f)\n",
    "    return posts\n",
    "\n",
    "\n",
    "def get_label(q_1, q_2, likes):\n",
    "    if likes < q_1:\n",
    "        return 0\n",
    "    elif likes < q_2:\n",
    "        return 1\n",
    "    else:\n",
    "        return 2\n",
    "\n",
    "\n",
    "def set_labels(df):\n",
    "    grouped = df.groupby('domain')\n",
    "    df['label'] = None\n",
    "    for group_name, idx in grouped.groups.items():\n",
    "        q_1 = df.loc[idx, 'likes'].quantile(1 / 3)\n",
    "        q_2 = df.loc[idx, 'likes'].quantile(2 / 3)\n",
    "        df.loc[idx, 'label'] = df.loc[idx, 'likes'].apply(lambda x: get_label(q_1, q_2, x))\n",
    "    return df\n",
    "\n",
    "        \n",
    "def generate_dataframe(posts):\n",
    "    texts = [post['text'] for post in posts]\n",
    "    dates = [datetime.fromtimestamp(p['date']) for p in posts]\n",
    "    likes = [post['likes'] for post in posts]\n",
    "    reposts = [p['reposts'] for p in posts]\n",
    "    domains = [p['domain'] for p in posts]\n",
    "    \n",
    "    df = pd.DataFrame({'text': texts, 'date': dates, 'likes': likes, 'reposts': reposts,\n",
    "                       'domain': domains})\n",
    "    df = set_labels(df)\n",
    "    return df\n",
    "\n",
    "\n",
    "def plot_date_likes(df, with_reps=True):\n",
    "    fig, ax = plt.subplots(figsize=(12, 8))\n",
    "    \n",
    "\n",
    "    years = YearLocator()   # every year\n",
    "    months = MonthLocator()  # every month\n",
    "    yearsFmt = DateFormatter('%Y')\n",
    "\n",
    "    ax.xaxis.set_major_locator(years)\n",
    "    ax.xaxis.set_major_formatter(yearsFmt)\n",
    "    ax.xaxis.set_minor_locator(months)\n",
    "\n",
    "    ax.set_xlabel('Year')\n",
    "    ax.set_ylabel('Likes')\n",
    "    ax.set_title('Horror stories')\n",
    "    ax.set_ylim((0, 3000))\n",
    "\n",
    "    ax.plot_date(df[df.label==0].date, df[df.label==0].likes, ',', label='label 0', color='red', alpha=0.9)\n",
    "    ax.plot_date(df[df.label==1].date, df[df.label==1].likes, ',', label='label 1', color='green', alpha=0.9)\n",
    "    ax.plot_date(df[df.label==2].date, df[df.label==2].likes, ',', label='label 2', color='blue', alpha=0.9)\n",
    "    plt.legend()"
   ]
  },
  {
   "cell_type": "markdown",
   "metadata": {},
   "source": [
    "### Reading data"
   ]
  },
  {
   "cell_type": "code",
   "execution_count": 114,
   "metadata": {
    "collapsed": false
   },
   "outputs": [
    {
     "data": {
      "text/plain": [
       "((25595, 6), (20935, 6))"
      ]
     },
     "execution_count": 114,
     "metadata": {},
     "output_type": "execute_result"
    }
   ],
   "source": [
    "all_posts = read_posts('all_posts')\n",
    "posts = generate_dataframe(all_posts)\n",
    "dataset_posts = read_posts('dataset')\n",
    "dataset = generate_dataframe(dataset_posts)\n",
    "posts.shape, dataset.shape"
   ]
  },
  {
   "cell_type": "markdown",
   "metadata": {},
   "source": [
    "Labels:\n",
    "* 0: post which has less than 0.33 percentile likes\n",
    "* 1: post which has greater than 0.33 and less than 0.67 percentile likes\n",
    "* 2: post which has greater than 0.67 percentile likes\n",
    "\n",
    "Percentiles are calculated separately for each domain"
   ]
  },
  {
   "cell_type": "code",
   "execution_count": 4,
   "metadata": {
    "collapsed": false
   },
   "outputs": [
    {
     "data": {
      "image/png": "[encoded data removed]",
      "text/plain": [
       "<matplotlib.figure.Figure at 0x7fb4143f1898>"
      ]
     },
     "metadata": {},
     "output_type": "display_data"
    }
   ],
   "source": [
    "plot_date_likes(posts)"
   ]
  },
  {
   "cell_type": "code",
   "execution_count": 5,
   "metadata": {
    "collapsed": false
   },
   "outputs": [
    {
     "data": {
      "image/png": "[encoded data removed]",
      "text/plain": [
       "<matplotlib.figure.Figure at 0x7fb413ead080>"
      ]
     },
     "metadata": {},
     "output_type": "display_data"
    }
   ],
   "source": [
    "plot_date_likes(dataset)"
   ]
  },
  {
   "cell_type": "markdown",
   "metadata": {},
   "source": [
    "Correlation between likes and reposts"
   ]
  },
  {
   "cell_type": "code",
   "execution_count": 6,
   "metadata": {
    "collapsed": false
   },
   "outputs": [
    {
     "data": {
      "text/plain": [
       "0.73114029638399658"
      ]
     },
     "execution_count": 6,
     "metadata": {},
     "output_type": "execute_result"
    }
   ],
   "source": [
    "posts.corr()['likes']['reposts']"
   ]
  },
  {
   "cell_type": "markdown",
   "metadata": {},
   "source": [
    "## Text processing"
   ]
  },
  {
   "cell_type": "markdown",
   "metadata": {},
   "source": [
    "### Getting names"
   ]
  },
  {
   "cell_type": "markdown",
   "metadata": {},
   "source": [
    "For filtering names from the dataset we find all words, which start with an upper case letter and not at the beginning of the sentence."
   ]
  },
  {
   "cell_type": "code",
   "execution_count": 115,
   "metadata": {
    "collapsed": true
   },
   "outputs": [],
   "source": [
    "def without_first_word_texts(texts, with_stemmer=True):\n",
    "    cleared_texts = []\n",
    "    stop_words = get_stop_words('ru')\n",
    "    stemmer = Stemmer.Stemmer('russian')\n",
    "\n",
    "    for text in texts:\n",
    "        sentences = segmenter.split_single(re.sub('( \\n \\n)|( \\n\\n)', '\\n', text))\n",
    "        cleared_text = []\n",
    "        for sentence in sentences:\n",
    "            sentence = re.sub('[^а-яА-ЯёЁ]', ' ', sentence)\n",
    "            sentence = sentence.split()\n",
    "            sentence = [s for s in sentence if s not in stop_words]\n",
    "            if with_stemmer:\n",
    "                sentence = stemmer.stemWords(sentence)\n",
    "            if len(sentence) > 1:\n",
    "                cleared_text.extend(sentence[1:])\n",
    "        cleared_texts.append(cleared_text)\n",
    "    return cleared_texts"
   ]
  },
  {
   "cell_type": "code",
   "execution_count": 8,
   "metadata": {
    "collapsed": false
   },
   "outputs": [
    {
     "name": "stdout",
     "output_type": "stream",
     "text": [
      "CPU times: user 6min 30s, sys: 576 ms, total: 6min 30s\n",
      "Wall time: 6min 31s\n"
     ]
    }
   ],
   "source": [
    "%time without_first = without_first_word_texts(posts.text.values)"
   ]
  },
  {
   "cell_type": "code",
   "execution_count": 9,
   "metadata": {
    "collapsed": false
   },
   "outputs": [
    {
     "name": "stdout",
     "output_type": "stream",
     "text": [
      "Dictionary(92195 unique tokens: ['пролепета', 'развветк', 'гримир', 'ПРОСМОТРЕВШИХ', 'батареек']...)\n"
     ]
    }
   ],
   "source": [
    "dictionary = corpora.Dictionary(without_first)\n",
    "print(dictionary)"
   ]
  },
  {
   "cell_type": "code",
   "execution_count": 10,
   "metadata": {
    "collapsed": true
   },
   "outputs": [],
   "source": [
    "dictionary_filtered = copy.deepcopy(dictionary)"
   ]
  },
  {
   "cell_type": "code",
   "execution_count": 11,
   "metadata": {
    "collapsed": true
   },
   "outputs": [],
   "source": [
    "dictionary_filtered.filter_extremes(no_below=20, no_above=0.1)"
   ]
  },
  {
   "cell_type": "code",
   "execution_count": 12,
   "metadata": {
    "collapsed": false
   },
   "outputs": [
    {
     "name": "stdout",
     "output_type": "stream",
     "text": [
      "Dictionary(20953 unique tokens: ['эксцентричн', 'поборот', 'пролепета', 'отслуж', 'содрога']...)\n"
     ]
    }
   ],
   "source": [
    "print(dictionary_filtered)"
   ]
  },
  {
   "cell_type": "code",
   "execution_count": 13,
   "metadata": {
    "collapsed": false
   },
   "outputs": [],
   "source": [
    "names = [name for name in dictionary_filtered.token2id.keys() if len(name) > 2 and name[0].isupper()\\\n",
    "         and name[1:].islower()]"
   ]
  },
  {
   "cell_type": "code",
   "execution_count": 14,
   "metadata": {
    "collapsed": false
   },
   "outputs": [
    {
     "data": {
      "text/plain": [
       "1614"
      ]
     },
     "execution_count": 14,
     "metadata": {},
     "output_type": "execute_result"
    }
   ],
   "source": [
    "len(names)"
   ]
  },
  {
   "cell_type": "code",
   "execution_count": 15,
   "metadata": {
    "collapsed": true
   },
   "outputs": [],
   "source": [
    "with open('names_from_sent.txt', 'w') as f:\n",
    "    f.write('\\n'.join(sorted([name.lower() for name in names])))"
   ]
  },
  {
   "cell_type": "markdown",
   "metadata": {},
   "source": [
    "After that, I do some cleaning by hands. From 1600 words (with countries names etc) to 800."
   ]
  },
  {
   "cell_type": "markdown",
   "metadata": {},
   "source": [
    "### Clearing texts"
   ]
  },
  {
   "cell_type": "code",
   "execution_count": 116,
   "metadata": {
    "collapsed": true
   },
   "outputs": [],
   "source": [
    "def clear_texts(texts, with_stemmer=True, to_lower=True, without_names=True, without_stop_words=True,\n",
    "                min_word_len=3):\n",
    "    clear_texts = []\n",
    "    stop_words = set(get_stop_words('ru'))\n",
    "    stemmer = Stemmer.Stemmer('russian')\n",
    "    \n",
    "    with open('names_from_sent.txt', 'r') as f:\n",
    "        names = f.readlines()\n",
    "        names = set([name.strip() for name in names])\n",
    "    \n",
    "    names_del = 0\n",
    "    for text in texts:\n",
    "        if to_lower:\n",
    "            text = text.lower()\n",
    "        text = re.sub('[^а-яА-ЯёЁ]', ' ', text)\n",
    "        text = text.split()\n",
    "        if without_stop_words:\n",
    "            text = [t for t in text if t not in stop_words]\n",
    "        if with_stemmer:\n",
    "            text = stemmer.stemWords(text)\n",
    "            if without_names:\n",
    "                before = len(text)\n",
    "                text = [t for t in text if t not in names]\n",
    "                aft = len(text)\n",
    "                names_del += before - aft\n",
    "        if min_word_len is not None:\n",
    "            text = [t for t in text if len(t) >= min_word_len]\n",
    "        clear_texts.append(' '.join(text))\n",
    "    print('names del: {}'.format(names_del))\n",
    "    return clear_texts"
   ]
  },
  {
   "cell_type": "code",
   "execution_count": 6,
   "metadata": {
    "collapsed": false
   },
   "outputs": [
    {
     "name": "stdout",
     "output_type": "stream",
     "text": [
      "names del: 3380627\n",
      "CPU times: user 41.1 s, sys: 24 ms, total: 41.2 s\n",
      "Wall time: 41.2 s\n"
     ]
    }
   ],
   "source": [
    "%%time\n",
    "stemmed_posts_texts = clear_texts(posts.text.values, True)"
   ]
  },
  {
   "cell_type": "code",
   "execution_count": 98,
   "metadata": {
    "collapsed": false
   },
   "outputs": [
    {
     "name": "stdout",
     "output_type": "stream",
     "text": [
      "names del: 0\n",
      "CPU times: user 10.5 s, sys: 64 ms, total: 10.6 s\n",
      "Wall time: 10.6 s\n"
     ]
    }
   ],
   "source": [
    "%%time\n",
    "posts_texts = clear_texts(posts.text.values, False, without_names=False, min_word_len=None,\n",
    "                          without_stop_words=False)"
   ]
  },
  {
   "cell_type": "code",
   "execution_count": 117,
   "metadata": {
    "collapsed": false
   },
   "outputs": [
    {
     "name": "stdout",
     "output_type": "stream",
     "text": [
      "names del: 352770\n",
      "CPU times: user 31.8 s, sys: 0 ns, total: 31.8 s\n",
      "Wall time: 31.8 s\n"
     ]
    }
   ],
   "source": [
    "%%time\n",
    "stemmed_dataset_texts = clear_texts(dataset.text.values, True)"
   ]
  },
  {
   "cell_type": "code",
   "execution_count": 118,
   "metadata": {
    "collapsed": false
   },
   "outputs": [
    {
     "name": "stdout",
     "output_type": "stream",
     "text": [
      "names del: 0\n",
      "CPU times: user 11.6 s, sys: 0 ns, total: 11.6 s\n",
      "Wall time: 11.6 s\n"
     ]
    }
   ],
   "source": [
    "%%time\n",
    "dataset_texts = clear_texts(dataset.text.values, False)"
   ]
  },
  {
   "cell_type": "markdown",
   "metadata": {},
   "source": [
    "Total words:"
   ]
  },
  {
   "cell_type": "code",
   "execution_count": 7,
   "metadata": {
    "collapsed": false
   },
   "outputs": [
    {
     "data": {
      "text/plain": [
       "6043050"
      ]
     },
     "execution_count": 7,
     "metadata": {},
     "output_type": "execute_result"
    }
   ],
   "source": [
    "sum([len(t.split()) for t in stemmed_posts_texts])"
   ]
  },
  {
   "cell_type": "code",
   "execution_count": 20,
   "metadata": {
    "collapsed": false
   },
   "outputs": [
    {
     "data": {
      "text/plain": [
       "'общаг общежит засел поступ колледж снима вариант поначал нормальн соседк колледж пройт метр общ устраива здан редк остава одн происход одн мож уснут тревог незащищен темнот навод разн начал остава психу выключа кроват стуча листочк тетрад пада наход кра стол вскакива прич впечатлен открыт окн вентиляц закле включа прекраща обе обнаруж банк ложк вилк треснул прич сниз ровн овал найт разумн объяснен'"
      ]
     },
     "execution_count": 20,
     "metadata": {},
     "output_type": "execute_result"
    }
   ],
   "source": [
    "stemmed_dataset_texts[0][:400]"
   ]
  },
  {
   "cell_type": "markdown",
   "metadata": {},
   "source": [
    "## Getting features"
   ]
  },
  {
   "cell_type": "markdown",
   "metadata": {},
   "source": [
    "### Train test split"
   ]
  },
  {
   "cell_type": "code",
   "execution_count": 119,
   "metadata": {
    "collapsed": false
   },
   "outputs": [],
   "source": [
    "x_train, x_test, y_train, y_test = train_test_split(stemmed_dataset_texts, dataset.label.values,\n",
    "                                                    random_state=10, train_size=0.8)"
   ]
  },
  {
   "cell_type": "code",
   "execution_count": 120,
   "metadata": {
    "collapsed": false
   },
   "outputs": [],
   "source": [
    "x_train_no_stem, x_test_no_stem, y_train, y_test = train_test_split(dataset_texts, dataset.label.values,\n",
    "                                                    random_state=10, train_size=0.8)"
   ]
  },
  {
   "cell_type": "code",
   "execution_count": 423,
   "metadata": {
    "collapsed": false
   },
   "outputs": [],
   "source": [
    "pd.DataFrame({'y': y_train}).to_csv('features/y_train.csv.gz', index=False, compression='gzip')\n",
    "pd.DataFrame({'y': y_test}).to_csv('features/y_test.csv.gz', index=False, compression='gzip')"
   ]
  },
  {
   "cell_type": "markdown",
   "metadata": {},
   "source": [
    "## Tfidf"
   ]
  },
  {
   "cell_type": "code",
   "execution_count": 207,
   "metadata": {
    "collapsed": false
   },
   "outputs": [
    {
     "name": "stdout",
     "output_type": "stream",
     "text": [
      "CPU times: user 1min 13s, sys: 1.96 s, total: 1min 15s\n",
      "Wall time: 1min 20s\n"
     ]
    }
   ],
   "source": [
    "%%time\n",
    "vect = TfidfVectorizer(max_features=1000, ngram_range=(1, 3), min_df=20, max_df=0.2)\n",
    "#vect = CountVectorizer(max_features=1000, ngram_range=(1, 3), min_df=20, max_df=0.2)\n",
    "\n",
    "X_train_Tfidf = vect.fit_transform(x_train)\n",
    "X_test_Tfidf = vect.transform(x_test)"
   ]
  },
  {
   "cell_type": "code",
   "execution_count": 424,
   "metadata": {
    "collapsed": false
   },
   "outputs": [],
   "source": [
    "pd.DataFrame(X_train_Tfidf.toarray()).to_csv('features/X_train_Tfidf.csv.gz', index=False, compression='gzip')\n",
    "pd.DataFrame(X_test_Tfidf.toarray()).to_csv('features/X_test_Tfidf.csv.gz', index=False, compression='gzip')"
   ]
  },
  {
   "cell_type": "code",
   "execution_count": 208,
   "metadata": {
    "collapsed": false
   },
   "outputs": [],
   "source": [
    "vocab = vect.get_feature_names()\n",
    "dist = np.mean(X_train_Tfidf.toarray(), axis=0)\n",
    "vocab_dist = dict(zip(vocab, dist))"
   ]
  },
  {
   "cell_type": "markdown",
   "metadata": {},
   "source": [
    "Highest Tfidf:"
   ]
  },
  {
   "cell_type": "code",
   "execution_count": 209,
   "metadata": {
    "collapsed": false
   },
   "outputs": [
    {
     "data": {
      "text/plain": [
       "[('девочк', 0.031190036871565265),\n",
       " ('бабушк', 0.030571152808370829),\n",
       " ('муж', 0.023059077764828764),\n",
       " ('мальчик', 0.021075481251638488),\n",
       " ('подруг', 0.021016168405234781)]"
      ]
     },
     "execution_count": 209,
     "metadata": {},
     "output_type": "execute_result"
    }
   ],
   "source": [
    "sorted(vocab_dist.items(), key=lambda i: -i[1])[:5]"
   ]
  },
  {
   "cell_type": "markdown",
   "metadata": {},
   "source": [
    "Lowest Tfidf:"
   ]
  },
  {
   "cell_type": "code",
   "execution_count": 210,
   "metadata": {
    "collapsed": false
   },
   "outputs": [
    {
     "data": {
      "text/plain": [
       "[('кивнул', 0.0033676919887659102),\n",
       " ('гот', 0.0035675988790125992),\n",
       " ('произнес', 0.0036503703951354634),\n",
       " ('обеща', 0.0037312462821721512),\n",
       " ('прижа', 0.003735149386929322)]"
      ]
     },
     "execution_count": 210,
     "metadata": {},
     "output_type": "execute_result"
    }
   ],
   "source": [
    "sorted(vocab_dist.items(), key=lambda i: i[1])[:5]"
   ]
  },
  {
   "cell_type": "markdown",
   "metadata": {},
   "source": [
    "### DELETE"
   ]
  },
  {
   "cell_type": "code",
   "execution_count": 15,
   "metadata": {
    "collapsed": false
   },
   "outputs": [],
   "source": [
    "params = {\n",
    "    'objective': 'multi:softmax',\n",
    "    'num_class': 3,\n",
    "    'booster': 'gbtree',\n",
    "    'eval_matrics': 'accuracy',\n",
    "}"
   ]
  },
  {
   "cell_type": "code",
   "execution_count": 16,
   "metadata": {
    "collapsed": true
   },
   "outputs": [
    {
     "name": "stderr",
     "output_type": "stream",
     "text": [
      "Will train until eval error hasn't decreased in 30 rounds.\n",
      "[0]\ttrain-merror:0.565251\teval-merror:0.617692\n",
      "[1]\ttrain-merror:0.530922\teval-merror:0.606229\n",
      "[2]\ttrain-merror:0.508694\teval-merror:0.608903\n",
      "[3]\ttrain-merror:0.488950\teval-merror:0.604127\n",
      "[4]\ttrain-merror:0.476021\teval-merror:0.606420\n",
      "[5]\ttrain-merror:0.463346\teval-merror:0.603936\n",
      "[6]\ttrain-merror:0.448124\teval-merror:0.602025\n",
      "[7]\ttrain-merror:0.435577\teval-merror:0.599350\n",
      "[8]\ttrain-merror:0.420610\teval-merror:0.594956\n",
      "[9]\ttrain-merror:0.406853\teval-merror:0.595147\n",
      "[10]\ttrain-merror:0.398319\teval-merror:0.593237\n",
      "[11]\ttrain-merror:0.389657\teval-merror:0.589033\n",
      "[12]\ttrain-merror:0.383033\teval-merror:0.594192\n",
      "[13]\ttrain-merror:0.374562\teval-merror:0.594383\n",
      "[14]\ttrain-merror:0.368320\teval-merror:0.597822\n",
      "[15]\ttrain-merror:0.360869\teval-merror:0.593045\n",
      "[16]\ttrain-merror:0.353863\teval-merror:0.596485\n",
      "[17]\ttrain-merror:0.349659\teval-merror:0.596102\n",
      "[18]\ttrain-merror:0.342526\teval-merror:0.594574\n",
      "[19]\ttrain-merror:0.335265\teval-merror:0.597440\n",
      "[20]\ttrain-merror:0.329406\teval-merror:0.596293\n",
      "[21]\ttrain-merror:0.323419\teval-merror:0.594765\n",
      "[22]\ttrain-merror:0.320043\teval-merror:0.595338\n",
      "[23]\ttrain-merror:0.316477\teval-merror:0.595720\n",
      "[24]\ttrain-merror:0.312846\teval-merror:0.593428\n",
      "[25]\ttrain-merror:0.308261\teval-merror:0.591326\n",
      "[26]\ttrain-merror:0.304758\teval-merror:0.592090\n",
      "[27]\ttrain-merror:0.301255\teval-merror:0.589797\n",
      "[28]\ttrain-merror:0.299535\teval-merror:0.591899\n",
      "[29]\ttrain-merror:0.294758\teval-merror:0.592854\n",
      "[30]\ttrain-merror:0.291829\teval-merror:0.593619\n",
      "[31]\ttrain-merror:0.287816\teval-merror:0.590371\n",
      "[32]\ttrain-merror:0.284122\teval-merror:0.592090\n",
      "[33]\ttrain-merror:0.281447\teval-merror:0.589415\n",
      "[34]\ttrain-merror:0.276543\teval-merror:0.589606\n",
      "[35]\ttrain-merror:0.273104\teval-merror:0.590371\n",
      "[36]\ttrain-merror:0.271066\teval-merror:0.590180\n",
      "[37]\ttrain-merror:0.267499\teval-merror:0.589797\n",
      "[38]\ttrain-merror:0.265524\teval-merror:0.589606\n",
      "[39]\ttrain-merror:0.263614\teval-merror:0.590371\n",
      "[40]\ttrain-merror:0.261002\teval-merror:0.590371\n"
     ]
    },
    {
     "name": "stdout",
     "output_type": "stream",
     "text": [
      "CPU times: user 1min 24s, sys: 32 ms, total: 1min 24s\n",
      "Wall time: 23.5 s\n"
     ]
    },
    {
     "name": "stderr",
     "output_type": "stream",
     "text": [
      "[41]\ttrain-merror:0.259538\teval-merror:0.589606\n",
      "Stopping. Best iteration:\n",
      "[11]\ttrain-merror:0.389657\teval-merror:0.589033\n",
      "\n"
     ]
    }
   ],
   "source": [
    "%%time\n",
    "dtrain = xgb.DMatrix(X_train, y_train)\n",
    "dvalid = xgb.DMatrix(X_test, y_test)\n",
    "watchlist = [(dtrain, 'train'), (dvalid, 'eval')]\n",
    "\n",
    "gbm = xgb.train(params, dtrain, 100, watchlist, verbose_eval=True, early_stopping_rounds=30)"
   ]
  },
  {
   "cell_type": "code",
   "execution_count": 9,
   "metadata": {
    "collapsed": true
   },
   "outputs": [],
   "source": [
    "pred = gbm.predict(dvalid)"
   ]
  },
  {
   "cell_type": "code",
   "execution_count": 21,
   "metadata": {
    "collapsed": false,
    "scrolled": true
   },
   "outputs": [
    {
     "data": {
      "text/plain": [
       "[('бабушк', 9)]"
      ]
     },
     "execution_count": 21,
     "metadata": {},
     "output_type": "execute_result"
    }
   ],
   "source": [
    "list(filter(lambda x: x[1] == 9, vect.vocabulary_.items()))"
   ]
  },
  {
   "cell_type": "code",
   "execution_count": 17,
   "metadata": {
    "collapsed": true
   },
   "outputs": [
    {
     "data": {
      "text/plain": [
       "[('f855', 54),\n",
       " ('f17', 26),\n",
       " ('f0', 22),\n",
       " ('f183', 22),\n",
       " ('f9', 19),\n",
       " ('f77', 18),\n",
       " ('f84', 18),\n",
       " ('f966', 17),\n",
       " ('f74', 17),\n",
       " ('f201', 17),\n",
       " ('f447', 17),\n",
       " ('f419', 17),\n",
       " ('f398', 16),\n",
       " ('f15', 16),\n",
       " ('f288', 15),\n",
       " ('f944', 15),\n",
       " ('f71', 15),\n",
       " ('f67', 14),\n",
       " ('f616', 14),\n",
       " ('f28', 14),\n",
       " ('f81', 13),\n",
       " ('f192', 13),\n",
       " ('f792', 13),\n",
       " ('f321', 13),\n",
       " ('f55', 13),\n",
       " ('f660', 13),\n",
       " ('f159', 13),\n",
       " ('f204', 13),\n",
       " ('f816', 13),\n",
       " ('f412', 13),\n",
       " ('f345', 13),\n",
       " ('f101', 12),\n",
       " ('f66', 12),\n",
       " ('f38', 12),\n",
       " ('f462', 12),\n",
       " ('f499', 12),\n",
       " ('f656', 12),\n",
       " ('f503', 12),\n",
       " ('f303', 12),\n",
       " ('f831', 12),\n",
       " ('f595', 11),\n",
       " ('f762', 11),\n",
       " ('f573', 11),\n",
       " ('f798', 11),\n",
       " ('f169', 11),\n",
       " ('f296', 11),\n",
       " ('f103', 11),\n",
       " ('f307', 11),\n",
       " ('f108', 11),\n",
       " ('f620', 11),\n",
       " ('f742', 11),\n",
       " ('f679', 11),\n",
       " ('f68', 11),\n",
       " ('f497', 10),\n",
       " ('f83', 10),\n",
       " ('f927', 10),\n",
       " ('f956', 10),\n",
       " ('f877', 10),\n",
       " ('f32', 10),\n",
       " ('f34', 10),\n",
       " ('f529', 10),\n",
       " ('f492', 10),\n",
       " ('f835', 10),\n",
       " ('f100', 10),\n",
       " ('f191', 10),\n",
       " ('f4', 10),\n",
       " ('f280', 10),\n",
       " ('f913', 10),\n",
       " ('f963', 10),\n",
       " ('f425', 9),\n",
       " ('f31', 9),\n",
       " ('f1', 9),\n",
       " ('f992', 9),\n",
       " ('f212', 9),\n",
       " ('f746', 9),\n",
       " ('f35', 9),\n",
       " ('f279', 9),\n",
       " ('f712', 9),\n",
       " ('f361', 9),\n",
       " ('f876', 9),\n",
       " ('f488', 9),\n",
       " ('f242', 9),\n",
       " ('f440', 9),\n",
       " ('f471', 9),\n",
       " ('f470', 9),\n",
       " ('f114', 9),\n",
       " ('f22', 9),\n",
       " ('f43', 9),\n",
       " ('f997', 9),\n",
       " ('f589', 9),\n",
       " ('f405', 9),\n",
       " ('f648', 9),\n",
       " ('f843', 9),\n",
       " ('f401', 9),\n",
       " ('f863', 9),\n",
       " ('f411', 9),\n",
       " ('f102', 9),\n",
       " ('f73', 9),\n",
       " ('f40', 9),\n",
       " ('f248', 9),\n",
       " ('f149', 9),\n",
       " ('f718', 9),\n",
       " ('f334', 9),\n",
       " ('f106', 8),\n",
       " ('f627', 8),\n",
       " ('f260', 8),\n",
       " ('f3', 8),\n",
       " ('f550', 8),\n",
       " ('f235', 8),\n",
       " ('f337', 8),\n",
       " ('f969', 8),\n",
       " ('f85', 8),\n",
       " ('f761', 8),\n",
       " ('f535', 8),\n",
       " ('f534', 8),\n",
       " ('f350', 8),\n",
       " ('f719', 8),\n",
       " ('f520', 8),\n",
       " ('f782', 8),\n",
       " ('f754', 8),\n",
       " ('f457', 8),\n",
       " ('f785', 8),\n",
       " ('f604', 8),\n",
       " ('f110', 8),\n",
       " ('f521', 8),\n",
       " ('f371', 8),\n",
       " ('f86', 8),\n",
       " ('f137', 8),\n",
       " ('f23', 8),\n",
       " ('f727', 8),\n",
       " ('f576', 8),\n",
       " ('f839', 8),\n",
       " ('f919', 8),\n",
       " ('f284', 8),\n",
       " ('f98', 8),\n",
       " ('f293', 7),\n",
       " ('f730', 7),\n",
       " ('f226', 7),\n",
       " ('f120', 7),\n",
       " ('f119', 7),\n",
       " ('f739', 7),\n",
       " ('f125', 7),\n",
       " ('f744', 7),\n",
       " ('f113', 7),\n",
       " ('f559', 7),\n",
       " ('f382', 7),\n",
       " ('f780', 7),\n",
       " ('f195', 7),\n",
       " ('f551', 7),\n",
       " ('f48', 7),\n",
       " ('f236', 7),\n",
       " ('f911', 7),\n",
       " ('f402', 7),\n",
       " ('f54', 7),\n",
       " ('f814', 7),\n",
       " ('f934', 7),\n",
       " ('f234', 7),\n",
       " ('f818', 7),\n",
       " ('f943', 7),\n",
       " ('f769', 7),\n",
       " ('f2', 7),\n",
       " ('f25', 7),\n",
       " ('f671', 7),\n",
       " ('f721', 7),\n",
       " ('f772', 7),\n",
       " ('f91', 7),\n",
       " ('f232', 7),\n",
       " ('f709', 7),\n",
       " ('f12', 7),\n",
       " ('f540', 7),\n",
       " ('f168', 7),\n",
       " ('f82', 6),\n",
       " ('f592', 6),\n",
       " ('f247', 6),\n",
       " ('f452', 6),\n",
       " ('f842', 6),\n",
       " ('f135', 6),\n",
       " ('f257', 6),\n",
       " ('f381', 6),\n",
       " ('f733', 6),\n",
       " ('f665', 6),\n",
       " ('f557', 6),\n",
       " ('f197', 6),\n",
       " ('f385', 6),\n",
       " ('f305', 6),\n",
       " ('f16', 6),\n",
       " ('f24', 6),\n",
       " ('f172', 6),\n",
       " ('f683', 6),\n",
       " ('f404', 6),\n",
       " ('f229', 6),\n",
       " ('f420', 6),\n",
       " ('f461', 6),\n",
       " ('f155', 6),\n",
       " ('f391', 6),\n",
       " ('f143', 6),\n",
       " ('f178', 6),\n",
       " ('f283', 6),\n",
       " ('f791', 6),\n",
       " ('f445', 6),\n",
       " ('f170', 6),\n",
       " ('f431', 6),\n",
       " ('f823', 6),\n",
       " ('f456', 6),\n",
       " ('f603', 6),\n",
       " ('f600', 6),\n",
       " ('f740', 6),\n",
       " ('f362', 6),\n",
       " ('f916', 6),\n",
       " ('f5', 6),\n",
       " ('f459', 6),\n",
       " ('f355', 6),\n",
       " ('f231', 6),\n",
       " ('f210', 6),\n",
       " ('f805', 6),\n",
       " ('f410', 6),\n",
       " ('f775', 6),\n",
       " ('f342', 6),\n",
       " ('f330', 6),\n",
       " ('f597', 6),\n",
       " ('f454', 6),\n",
       " ('f682', 6),\n",
       " ('f353', 6),\n",
       " ('f868', 6),\n",
       " ('f217', 6),\n",
       " ('f446', 6),\n",
       " ('f392', 6),\n",
       " ('f885', 6),\n",
       " ('f359', 6),\n",
       " ('f659', 6),\n",
       " ('f96', 6),\n",
       " ('f636', 5),\n",
       " ('f811', 5),\n",
       " ('f888', 5),\n",
       " ('f246', 5),\n",
       " ('f737', 5),\n",
       " ('f641', 5),\n",
       " ('f898', 5),\n",
       " ('f701', 5),\n",
       " ('f692', 5),\n",
       " ('f199', 5),\n",
       " ('f532', 5),\n",
       " ('f800', 5),\n",
       " ('f313', 5),\n",
       " ('f536', 5),\n",
       " ('f708', 5),\n",
       " ('f444', 5),\n",
       " ('f658', 5),\n",
       " ('f527', 5),\n",
       " ('f124', 5),\n",
       " ('f300', 5),\n",
       " ('f994', 5),\n",
       " ('f14', 5),\n",
       " ('f817', 5),\n",
       " ('f993', 5),\n",
       " ('f984', 5),\n",
       " ('f380', 5),\n",
       " ('f556', 5),\n",
       " ('f724', 5),\n",
       " ('f865', 5),\n",
       " ('f554', 5),\n",
       " ('f180', 5),\n",
       " ('f707', 5),\n",
       " ('f634', 5),\n",
       " ('f974', 5),\n",
       " ('f777', 5),\n",
       " ('f130', 5),\n",
       " ('f453', 5),\n",
       " ('f773', 5),\n",
       " ('f630', 5),\n",
       " ('f653', 5),\n",
       " ('f51', 5),\n",
       " ('f264', 5),\n",
       " ('f500', 5),\n",
       " ('f967', 5),\n",
       " ('f333', 5),\n",
       " ('f628', 5),\n",
       " ('f41', 5),\n",
       " ('f474', 5),\n",
       " ('f631', 5),\n",
       " ('f186', 5),\n",
       " ('f774', 5),\n",
       " ('f458', 5),\n",
       " ('f486', 5),\n",
       " ('f64', 5),\n",
       " ('f945', 5),\n",
       " ('f154', 5),\n",
       " ('f483', 5),\n",
       " ('f211', 5),\n",
       " ('f289', 5),\n",
       " ('f864', 5),\n",
       " ('f485', 5),\n",
       " ('f632', 5),\n",
       " ('f822', 5),\n",
       " ('f218', 5),\n",
       " ('f915', 5),\n",
       " ('f198', 5),\n",
       " ('f917', 5),\n",
       " ('f795', 5),\n",
       " ('f987', 5),\n",
       " ('f112', 5),\n",
       " ('f315', 5),\n",
       " ('f879', 5),\n",
       " ('f523', 5),\n",
       " ('f132', 5),\n",
       " ('f985', 5),\n",
       " ('f779', 5),\n",
       " ('f975', 5),\n",
       " ('f506', 5),\n",
       " ('f686', 5),\n",
       " ('f878', 5),\n",
       " ('f468', 5),\n",
       " ('f645', 5),\n",
       " ('f572', 5),\n",
       " ('f422', 5),\n",
       " ('f575', 5),\n",
       " ('f174', 5),\n",
       " ('f870', 5),\n",
       " ('f49', 5),\n",
       " ('f72', 5),\n",
       " ('f150', 5),\n",
       " ('f716', 5),\n",
       " ('f965', 5),\n",
       " ('f858', 5),\n",
       " ('f185', 5),\n",
       " ('f938', 5),\n",
       " ('f611', 5),\n",
       " ('f473', 5),\n",
       " ('f670', 5),\n",
       " ('f947', 5),\n",
       " ('f193', 5),\n",
       " ('f664', 5),\n",
       " ('f165', 4),\n",
       " ('f908', 4),\n",
       " ('f142', 4),\n",
       " ('f495', 4),\n",
       " ('f725', 4),\n",
       " ('f449', 4),\n",
       " ('f76', 4),\n",
       " ('f980', 4),\n",
       " ('f44', 4),\n",
       " ('f435', 4),\n",
       " ('f926', 4),\n",
       " ('f29', 4),\n",
       " ('f139', 4),\n",
       " ('f505', 4),\n",
       " ('f852', 4),\n",
       " ('f318', 4),\n",
       " ('f736', 4),\n",
       " ('f900', 4),\n",
       " ('f162', 4),\n",
       " ('f285', 4),\n",
       " ('f189', 4),\n",
       " ('f409', 4),\n",
       " ('f491', 4),\n",
       " ('f765', 4),\n",
       " ('f891', 4),\n",
       " ('f623', 4),\n",
       " ('f827', 4),\n",
       " ('f626', 4),\n",
       " ('f804', 4),\n",
       " ('f335', 4),\n",
       " ('f78', 4),\n",
       " ('f555', 4),\n",
       " ('f998', 4),\n",
       " ('f270', 4),\n",
       " ('f931', 4),\n",
       " ('f674', 4),\n",
       " ('f363', 4),\n",
       " ('f261', 4),\n",
       " ('f276', 4),\n",
       " ('f764', 4),\n",
       " ('f825', 4),\n",
       " ('f397', 4),\n",
       " ('f215', 4),\n",
       " ('f327', 4),\n",
       " ('f383', 4),\n",
       " ('f393', 4),\n",
       " ('f26', 4),\n",
       " ('f796', 4),\n",
       " ('f964', 4),\n",
       " ('f374', 4),\n",
       " ('f386', 4),\n",
       " ('f62', 4),\n",
       " ('f146', 4),\n",
       " ('f243', 4),\n",
       " ('f619', 4),\n",
       " ('f274', 4),\n",
       " ('f968', 4),\n",
       " ('f187', 4),\n",
       " ('f873', 4),\n",
       " ('f662', 4),\n",
       " ('f577', 4),\n",
       " ('f97', 4),\n",
       " ('f807', 4),\n",
       " ('f872', 4),\n",
       " ('f869', 4),\n",
       " ('f421', 4),\n",
       " ('f617', 4),\n",
       " ('f710', 4),\n",
       " ('f126', 4),\n",
       " ('f995', 4),\n",
       " ('f696', 4),\n",
       " ('f735', 4),\n",
       " ('f790', 4),\n",
       " ('f582', 4),\n",
       " ('f11', 4),\n",
       " ('f269', 4),\n",
       " ('f715', 4),\n",
       " ('f808', 4),\n",
       " ('f571', 4),\n",
       " ('f496', 4),\n",
       " ('f237', 4),\n",
       " ('f755', 4),\n",
       " ('f955', 4),\n",
       " ('f906', 4),\n",
       " ('f138', 4),\n",
       " ('f128', 4),\n",
       " ('f672', 4),\n",
       " ('f33', 4),\n",
       " ('f308', 4),\n",
       " ('f455', 4),\n",
       " ('f351', 4),\n",
       " ('f104', 4),\n",
       " ('f450', 4),\n",
       " ('f605', 4),\n",
       " ('f477', 4),\n",
       " ('f815', 4),\n",
       " ('f340', 4),\n",
       " ('f239', 4),\n",
       " ('f164', 4),\n",
       " ('f871', 4),\n",
       " ('f905', 4),\n",
       " ('f770', 4),\n",
       " ('f53', 4),\n",
       " ('f282', 4),\n",
       " ('f920', 4),\n",
       " ('f675', 4),\n",
       " ('f325', 4),\n",
       " ('f783', 4),\n",
       " ('f753', 4),\n",
       " ('f840', 4),\n",
       " ('f732', 4),\n",
       " ('f586', 4),\n",
       " ('f319', 4),\n",
       " ('f297', 4),\n",
       " ('f250', 4),\n",
       " ('f378', 3),\n",
       " ('f481', 3),\n",
       " ('f343', 3),\n",
       " ('f278', 3),\n",
       " ('f438', 3),\n",
       " ('f552', 3),\n",
       " ('f206', 3),\n",
       " ('f368', 3),\n",
       " ('f208', 3),\n",
       " ('f745', 3),\n",
       " ('f290', 3),\n",
       " ('f801', 3),\n",
       " ('f79', 3),\n",
       " ('f570', 3),\n",
       " ('f749', 3),\n",
       " ('f887', 3),\n",
       " ('f258', 3),\n",
       " ('f850', 3),\n",
       " ('f18', 3),\n",
       " ('f336', 3),\n",
       " ('f644', 3),\n",
       " ('f152', 3),\n",
       " ('f933', 3),\n",
       " ('f265', 3),\n",
       " ('f937', 3),\n",
       " ('f912', 3),\n",
       " ('f694', 3),\n",
       " ('f821', 3),\n",
       " ('f118', 3),\n",
       " ('f70', 3),\n",
       " ('f518', 3),\n",
       " ('f549', 3),\n",
       " ('f516', 3),\n",
       " ('f69', 3),\n",
       " ('f407', 3),\n",
       " ('f406', 3),\n",
       " ('f647', 3),\n",
       " ('f528', 3),\n",
       " ('f650', 3),\n",
       " ('f949', 3),\n",
       " ('f859', 3),\n",
       " ('f907', 3),\n",
       " ('f909', 3),\n",
       " ('f209', 3),\n",
       " ('f501', 3),\n",
       " ('f240', 3),\n",
       " ('f223', 3),\n",
       " ('f328', 3),\n",
       " ('f996', 3),\n",
       " ('f200', 3),\n",
       " ('f306', 3),\n",
       " ('f517', 3),\n",
       " ('f480', 3),\n",
       " ('f127', 3),\n",
       " ('f20', 3),\n",
       " ('f867', 3),\n",
       " ('f609', 3),\n",
       " ('f460', 3),\n",
       " ('f757', 3),\n",
       " ('f519', 3),\n",
       " ('f625', 3),\n",
       " ('f568', 3),\n",
       " ('f273', 3),\n",
       " ('f640', 3),\n",
       " ('f465', 3),\n",
       " ('f581', 3),\n",
       " ('f338', 3),\n",
       " ('f224', 3),\n",
       " ('f834', 3),\n",
       " ('f489', 3),\n",
       " ('f901', 3),\n",
       " ('f415', 3),\n",
       " ('f339', 3),\n",
       " ('f105', 3),\n",
       " ('f829', 3),\n",
       " ('f962', 3),\n",
       " ('f525', 3),\n",
       " ('f58', 3),\n",
       " ('f669', 3),\n",
       " ('f136', 3),\n",
       " ('f738', 3),\n",
       " ('f699', 3),\n",
       " ('f147', 3),\n",
       " ('f275', 3),\n",
       " ('f161', 3),\n",
       " ('f482', 3),\n",
       " ('f673', 3),\n",
       " ('f717', 3),\n",
       " ('f856', 3),\n",
       " ('f698', 3),\n",
       " ('f778', 3),\n",
       " ('f390', 3),\n",
       " ('f111', 3),\n",
       " ('f666', 3),\n",
       " ('f467', 3),\n",
       " ('f47', 3),\n",
       " ('f262', 3),\n",
       " ('f443', 3),\n",
       " ('f866', 3),\n",
       " ('f851', 3),\n",
       " ('f216', 3),\n",
       " ('f251', 3),\n",
       " ('f924', 3),\n",
       " ('f750', 3),\n",
       " ('f233', 3),\n",
       " ('f959', 3),\n",
       " ('f691', 3),\n",
       " ('f598', 3),\n",
       " ('f202', 3),\n",
       " ('f469', 3),\n",
       " ('f705', 3),\n",
       " ('f59', 3),\n",
       " ('f643', 3),\n",
       " ('f957', 3),\n",
       " ('f129', 3),\n",
       " ('f116', 3),\n",
       " ('f566', 3),\n",
       " ('f680', 3),\n",
       " ('f601', 3),\n",
       " ('f803', 3),\n",
       " ('f312', 3),\n",
       " ('f60', 3),\n",
       " ('f952', 3),\n",
       " ('f579', 3),\n",
       " ('f148', 3),\n",
       " ('f697', 3),\n",
       " ('f819', 3),\n",
       " ('f833', 3),\n",
       " ('f857', 3),\n",
       " ('f853', 3),\n",
       " ('f751', 3),\n",
       " ('f263', 3),\n",
       " ('f122', 3),\n",
       " ('f844', 3),\n",
       " ('f418', 3),\n",
       " ('f797', 3),\n",
       " ('f860', 3),\n",
       " ('f65', 3),\n",
       " ('f548', 3),\n",
       " ('f95', 3),\n",
       " ('f841', 3),\n",
       " ('f654', 3),\n",
       " ('f983', 3),\n",
       " ('f925', 3),\n",
       " ('f8', 3),\n",
       " ('f286', 3),\n",
       " ('f153', 3),\n",
       " ('f88', 3),\n",
       " ('f267', 3),\n",
       " ('f298', 3),\n",
       " ('f942', 2),\n",
       " ('f123', 2),\n",
       " ('f837', 2),\n",
       " ('f820', 2),\n",
       " ('f163', 2),\n",
       " ('f613', 2),\n",
       " ('f507', 2),\n",
       " ('f681', 2),\n",
       " ('f348', 2),\n",
       " ('f134', 2),\n",
       " ('f612', 2),\n",
       " ('f515', 2),\n",
       " ('f688', 2),\n",
       " ('f427', 2),\n",
       " ('f360', 2),\n",
       " ('f954', 2),\n",
       " ('f384', 2),\n",
       " ('f756', 2),\n",
       " ('f304', 2),\n",
       " ('f387', 2),\n",
       " ('f19', 2),\n",
       " ('f884', 2),\n",
       " ('f918', 2),\n",
       " ('f225', 2),\n",
       " ('f439', 2),\n",
       " ('f245', 2),\n",
       " ('f344', 2),\n",
       " ('f862', 2),\n",
       " ('f618', 2),\n",
       " ('f151', 2),\n",
       " ('f346', 2),\n",
       " ('f874', 2),\n",
       " ('f854', 2),\n",
       " ('f437', 2),\n",
       " ('f27', 2),\n",
       " ('f94', 2),\n",
       " ('f914', 2),\n",
       " ('f160', 2),\n",
       " ('f408', 2),\n",
       " ('f786', 2),\n",
       " ('f545', 2),\n",
       " ('f703', 2),\n",
       " ('f207', 2),\n",
       " ('f221', 2),\n",
       " ('f508', 2),\n",
       " ('f637', 2),\n",
       " ('f13', 2),\n",
       " ('f562', 2),\n",
       " ('f399', 2),\n",
       " ('f861', 2),\n",
       " ('f324', 2),\n",
       " ('f830', 2),\n",
       " ('f890', 2),\n",
       " ('f166', 2),\n",
       " ('f828', 2),\n",
       " ('f734', 2),\n",
       " ('f720', 2),\n",
       " ('f395', 2),\n",
       " ('f259', 2),\n",
       " ('f895', 2),\n",
       " ('f464', 2),\n",
       " ('f379', 2),\n",
       " ('f423', 2),\n",
       " ('f784', 2),\n",
       " ('f846', 2),\n",
       " ('f10', 2),\n",
       " ('f713', 2),\n",
       " ('f789', 2),\n",
       " ('f722', 2),\n",
       " ('f314', 2),\n",
       " ('f923', 2),\n",
       " ('f414', 2),\n",
       " ('f590', 2),\n",
       " ('f848', 2),\n",
       " ('f252', 2),\n",
       " ('f158', 2),\n",
       " ('f685', 2),\n",
       " ('f177', 2),\n",
       " ('f526', 2),\n",
       " ('f21', 2),\n",
       " ('f299', 2),\n",
       " ('f184', 2),\n",
       " ('f728', 2),\n",
       " ('f241', 2),\n",
       " ('f760', 2),\n",
       " ('f42', 2),\n",
       " ('f349', 2),\n",
       " ('f569', 2),\n",
       " ('f271', 2),\n",
       " ('f989', 2),\n",
       " ('f547', 2),\n",
       " ('f638', 2),\n",
       " ('f115', 2),\n",
       " ('f133', 2),\n",
       " ('f341', 2),\n",
       " ('f329', 2),\n",
       " ('f434', 2),\n",
       " ('f953', 2),\n",
       " ('f7', 2),\n",
       " ('f181', 2),\n",
       " ('f904', 2),\n",
       " ('f388', 2),\n",
       " ('f490', 2),\n",
       " ('f723', 2),\n",
       " ('f607', 2),\n",
       " ('f429', 2),\n",
       " ('f356', 2),\n",
       " ('f475', 2),\n",
       " ('f466', 2),\n",
       " ('f676', 2),\n",
       " ('f277', 2),\n",
       " ('f316', 2),\n",
       " ('f377', 2),\n",
       " ('f292', 2),\n",
       " ('f509', 2),\n",
       " ('f302', 2),\n",
       " ('f892', 2),\n",
       " ('f546', 2),\n",
       " ('f941', 2),\n",
       " ('f432', 2),\n",
       " ('f668', 2),\n",
       " ('f512', 2),\n",
       " ('f970', 2),\n",
       " ('f584', 2),\n",
       " ('f121', 2),\n",
       " ('f309', 2),\n",
       " ('f194', 2),\n",
       " ('f621', 2),\n",
       " ('f849', 2),\n",
       " ('f295', 2),\n",
       " ('f213', 2),\n",
       " ('f845', 2),\n",
       " ('f950', 2),\n",
       " ('f175', 2),\n",
       " ('f768', 2),\n",
       " ('f930', 2),\n",
       " ('f563', 2),\n",
       " ('f928', 2),\n",
       " ('f889', 2),\n",
       " ('f711', 2),\n",
       " ('f173', 2),\n",
       " ('f875', 2),\n",
       " ('f932', 2),\n",
       " ('f287', 2),\n",
       " ('f793', 2),\n",
       " ('f436', 2),\n",
       " ('f935', 2),\n",
       " ('f655', 2),\n",
       " ('f910', 2),\n",
       " ('f832', 2),\n",
       " ('f472', 2),\n",
       " ('f326', 2),\n",
       " ('f301', 1),\n",
       " ('f899', 1),\n",
       " ('f498', 1),\n",
       " ('f882', 1),\n",
       " ('f46', 1),\n",
       " ('f763', 1),\n",
       " ('f244', 1),\n",
       " ('f256', 1),\n",
       " ('f981', 1),\n",
       " ('f30', 1),\n",
       " ('f752', 1),\n",
       " ('f156', 1),\n",
       " ('f167', 1),\n",
       " ('f205', 1),\n",
       " ('f322', 1),\n",
       " ('f560', 1),\n",
       " ('f109', 1),\n",
       " ('f929', 1),\n",
       " ('f291', 1),\n",
       " ('f310', 1),\n",
       " ('f593', 1),\n",
       " ('f587', 1),\n",
       " ('f222', 1),\n",
       " ('f991', 1),\n",
       " ('f524', 1),\n",
       " ('f511', 1),\n",
       " ('f971', 1),\n",
       " ('f294', 1),\n",
       " ('f704', 1),\n",
       " ('f510', 1),\n",
       " ('f331', 1),\n",
       " ('f63', 1),\n",
       " ('f771', 1),\n",
       " ('f687', 1),\n",
       " ('f479', 1),\n",
       " ('f588', 1),\n",
       " ('f706', 1),\n",
       " ('f370', 1),\n",
       " ('f767', 1),\n",
       " ('f179', 1),\n",
       " ('f365', 1),\n",
       " ('f988', 1),\n",
       " ('f484', 1),\n",
       " ('f396', 1),\n",
       " ('f430', 1),\n",
       " ('f214', 1),\n",
       " ('f646', 1),\n",
       " ('f92', 1),\n",
       " ('f190', 1),\n",
       " ('f936', 1),\n",
       " ('f99', 1),\n",
       " ('f441', 1),\n",
       " ('f651', 1),\n",
       " ('f203', 1),\n",
       " ('f358', 1),\n",
       " ('f922', 1),\n",
       " ('f531', 1),\n",
       " ('f812', 1),\n",
       " ('f131', 1),\n",
       " ('f39', 1),\n",
       " ('f781', 1),\n",
       " ('f794', 1),\n",
       " ('f403', 1),\n",
       " ('f986', 1),\n",
       " ('f700', 1),\n",
       " ('f615', 1),\n",
       " ('f741', 1),\n",
       " ('f544', 1),\n",
       " ('f533', 1),\n",
       " ('f61', 1),\n",
       " ('f585', 1),\n",
       " ('f45', 1),\n",
       " ('f639', 1),\n",
       " ('f883', 1),\n",
       " ('f89', 1),\n",
       " ('f451', 1),\n",
       " ('f602', 1),\n",
       " ('f366', 1),\n",
       " ('f661', 1),\n",
       " ('f442', 1),\n",
       " ('f448', 1),\n",
       " ('f463', 1),\n",
       " ('f36', 1),\n",
       " ('f188', 1),\n",
       " ('f689', 1),\n",
       " ('f961', 1),\n",
       " ('f809', 1),\n",
       " ('f594', 1),\n",
       " ('f227', 1),\n",
       " ('f608', 1),\n",
       " ('f140', 1),\n",
       " ('f759', 1),\n",
       " ('f266', 1),\n",
       " ('f157', 1),\n",
       " ('f145', 1),\n",
       " ('f973', 1),\n",
       " ('f714', 1),\n",
       " ('f610', 1),\n",
       " ('f141', 1),\n",
       " ('f369', 1),\n",
       " ('f578', 1),\n",
       " ('f758', 1),\n",
       " ('f253', 1),\n",
       " ('f652', 1),\n",
       " ('f948', 1),\n",
       " ('f352', 1),\n",
       " ('f522', 1),\n",
       " ('f649', 1),\n",
       " ('f624', 1),\n",
       " ('f881', 1),\n",
       " ('f657', 1),\n",
       " ('f254', 1),\n",
       " ('f903', 1),\n",
       " ('f228', 1),\n",
       " ('f514', 1),\n",
       " ('f635', 1),\n",
       " ('f364', 1),\n",
       " ('f729', 1),\n",
       " ('f219', 1),\n",
       " ('f6', 1),\n",
       " ('f367', 1),\n",
       " ('f107', 1),\n",
       " ('f543', 1),\n",
       " ('f561', 1),\n",
       " ('f960', 1),\n",
       " ('f538', 1),\n",
       " ('f695', 1),\n",
       " ('f311', 1),\n",
       " ('f494', 1),\n",
       " ('f599', 1),\n",
       " ('f426', 1),\n",
       " ('f982', 1),\n",
       " ('f87', 1),\n",
       " ('f504', 1),\n",
       " ('f220', 1),\n",
       " ('f389', 1),\n",
       " ('f372', 1),\n",
       " ('f747', 1),\n",
       " ('f56', 1),\n",
       " ('f144', 1),\n",
       " ('f539', 1),\n",
       " ('f684', 1),\n",
       " ('f493', 1),\n",
       " ('f317', 1),\n",
       " ('f553', 1),\n",
       " ('f642', 1),\n",
       " ('f478', 1),\n",
       " ('f731', 1),\n",
       " ('f196', 1),\n",
       " ('f80', 1),\n",
       " ('f375', 1),\n",
       " ('f487', 1),\n",
       " ('f690', 1),\n",
       " ('f788', 1),\n",
       " ('f663', 1),\n",
       " ('f591', 1),\n",
       " ('f990', 1),\n",
       " ('f940', 1),\n",
       " ('f565', 1),\n",
       " ('f838', 1),\n",
       " ('f416', 1)]"
      ]
     },
     "execution_count": 17,
     "metadata": {},
     "output_type": "execute_result"
    }
   ],
   "source": [
    "sorted(gbm.get_fscore().items(), key=lambda x: -x[1])"
   ]
  },
  {
   "cell_type": "markdown",
   "metadata": {},
   "source": [
    "### END DELETE"
   ]
  },
  {
   "cell_type": "code",
   "execution_count": 211,
   "metadata": {
    "collapsed": true
   },
   "outputs": [],
   "source": [
    "tsne = TSNE(2)"
   ]
  },
  {
   "cell_type": "code",
   "execution_count": 212,
   "metadata": {
    "collapsed": false
   },
   "outputs": [],
   "source": [
    "x_tsne = tsne.fit_transform(X_train_Tfidf[:5000].toarray())"
   ]
  },
  {
   "cell_type": "code",
   "execution_count": 228,
   "metadata": {
    "collapsed": false
   },
   "outputs": [
    {
     "data": {
      "text/plain": [
       "<matplotlib.collections.PathCollection at 0x7f364c8e3f28>"
      ]
     },
     "execution_count": 228,
     "metadata": {},
     "output_type": "execute_result"
    },
    {
     "data": {
      "image/png": "[encoded data removed]",
      "text/plain": [
       "<matplotlib.figure.Figure at 0x7f36136dc048>"
      ]
     },
     "metadata": {},
     "output_type": "display_data"
    }
   ],
   "source": [
    "plt.scatter(x_tsne[:, 0], x_tsne[:, 1], c=y_train[:5000], alpha=0.8)"
   ]
  },
  {
   "cell_type": "code",
   "execution_count": 216,
   "metadata": {
    "collapsed": false,
    "scrolled": true
   },
   "outputs": [
    {
     "name": "stdout",
     "output_type": "stream",
     "text": [
      "CPU times: user 344 ms, sys: 8 ms, total: 352 ms\n",
      "Wall time: 349 ms\n"
     ]
    }
   ],
   "source": [
    "%%time\n",
    "lr = lm.LogisticRegression(C=0.01)\n",
    "lr.fit(X_train_Tfidf, y_train)\n",
    "pred = lr.predict(X_test_Tfidf)\n"
   ]
  },
  {
   "cell_type": "code",
   "execution_count": 218,
   "metadata": {
    "collapsed": false
   },
   "outputs": [
    {
     "data": {
      "text/plain": [
       "0.40386911870074038"
      ]
     },
     "execution_count": 218,
     "metadata": {},
     "output_type": "execute_result"
    }
   ],
   "source": [
    "metrics.accuracy_score(y_test, pred)"
   ]
  },
  {
   "cell_type": "markdown",
   "metadata": {},
   "source": [
    "## NN"
   ]
  },
  {
   "cell_type": "code",
   "execution_count": 399,
   "metadata": {
    "collapsed": true
   },
   "outputs": [],
   "source": [
    "y_train_cat = np_utils.to_categorical(y_train, 3)\n",
    "y_test_cat = np_utils.to_categorical(y_test, 3)"
   ]
  },
  {
   "cell_type": "code",
   "execution_count": 400,
   "metadata": {
    "collapsed": false
   },
   "outputs": [],
   "source": [
    "model = Sequential()\n",
    "model.add(Dense(700, input_shape=(1000,)))\n",
    "model.add(Activation(PReLU()))\n",
    "model.add(Dropout(0.5))\n",
    "model.add(Dense(3))\n",
    "model.add(Activation('softmax'))\n",
    "\n",
    "model.compile(loss='categorical_crossentropy',\n",
    "              optimizer='adam',\n",
    "              metrics=['accuracy'])"
   ]
  },
  {
   "cell_type": "code",
   "execution_count": 401,
   "metadata": {
    "collapsed": false
   },
   "outputs": [
    {
     "name": "stdout",
     "output_type": "stream",
     "text": [
      "Epoch 1/5\n",
      "16748/16748 [==============================] - 3s - loss: 1.0862 - acc: 0.3903     \n",
      "Epoch 2/5\n",
      "16748/16748 [==============================] - 3s - loss: 1.0465 - acc: 0.4663     \n",
      "Epoch 3/5\n",
      "16748/16748 [==============================] - 3s - loss: 1.0201 - acc: 0.4879     \n",
      "Epoch 4/5\n",
      "16748/16748 [==============================] - 3s - loss: 0.9959 - acc: 0.5094     \n",
      "Epoch 5/5\n",
      "16748/16748 [==============================] - 3s - loss: 0.9719 - acc: 0.5300     \n",
      "CPU times: user 27.6 s, sys: 28.7 s, total: 56.4 s\n",
      "Wall time: 17.7 s\n"
     ]
    }
   ],
   "source": [
    "%%time\n",
    "history = model.fit(X_train_Tfidf.toarray(), y_train_cat,\n",
    "                    nb_epoch=5, batch_size=512,\n",
    "                    verbose=1) #, validation_split=0.1)"
   ]
  },
  {
   "cell_type": "code",
   "execution_count": 402,
   "metadata": {
    "collapsed": false
   },
   "outputs": [
    {
     "name": "stdout",
     "output_type": "stream",
     "text": [
      "4187/4187 [==============================] - 0s     \n",
      "Test score: 1.072735984\n",
      "Test accuracy: 0.413900167376\n"
     ]
    }
   ],
   "source": [
    "score = model.evaluate(X_test_Tfidf.toarray(), y_test_cat,\n",
    "                       batch_size=512, verbose=1)\n",
    "print('Test score:', score[0])\n",
    "print('Test accuracy:', score[1])"
   ]
  },
  {
   "cell_type": "code",
   "execution_count": 238,
   "metadata": {
    "collapsed": false
   },
   "outputs": [
    {
     "name": "stdout",
     "output_type": "stream",
     "text": [
      "4096/4187 [============================>.] - ETA: 0s"
     ]
    }
   ],
   "source": [
    "pred = model.predict_classes(X_test_Tfidf.toarray(), batch_size=512)"
   ]
  },
  {
   "cell_type": "code",
   "execution_count": 239,
   "metadata": {
    "collapsed": false
   },
   "outputs": [
    {
     "data": {
      "text/plain": [
       "<matplotlib.colorbar.Colorbar at 0x7f3604991400>"
      ]
     },
     "execution_count": 239,
     "metadata": {},
     "output_type": "execute_result"
    },
    {
     "data": {
      "image/png": "[encoded data removed]",
      "text/plain": [
       "<matplotlib.figure.Figure at 0x7f35f78fcc88>"
      ]
     },
     "metadata": {},
     "output_type": "display_data"
    }
   ],
   "source": [
    "matr = metrics.confusion_matrix(y_test, pred)\n",
    "plt.imshow(matr, interpolation='nearest', cmap=plt.cm.Reds)\n",
    "plt.colorbar()"
   ]
  },
  {
   "cell_type": "markdown",
   "metadata": {},
   "source": [
    "## LDA Model"
   ]
  },
  {
   "cell_type": "markdown",
   "metadata": {},
   "source": [
    "## Filtering dictionary"
   ]
  },
  {
   "cell_type": "code",
   "execution_count": 28,
   "metadata": {
    "collapsed": false
   },
   "outputs": [
    {
     "name": "stdout",
     "output_type": "stream",
     "text": [
      "Dictionary(79844 unique tokens: ['мерзнут', 'загуд', 'снек', 'завсклад', 'рыжеволос']...)\n"
     ]
    }
   ],
   "source": [
    "splited_texts = [text.split() for text in stemmed_posts_texts]\n",
    "dictionary = corpora.Dictionary(splited_texts)\n",
    "corpus = [dictionary.doc2bow(text) for text in splited_texts]\n",
    "print(dictionary)"
   ]
  },
  {
   "cell_type": "code",
   "execution_count": 29,
   "metadata": {
    "collapsed": true
   },
   "outputs": [],
   "source": [
    "dictionary_filtered = copy.deepcopy(dictionary)\n",
    "dictionary_filtered.filter_extremes(no_below=20, no_above=0.1)"
   ]
  },
  {
   "cell_type": "markdown",
   "metadata": {},
   "source": [
    "If not filtered names and short words before"
   ]
  },
  {
   "cell_type": "code",
   "execution_count": 30,
   "metadata": {
    "collapsed": false
   },
   "outputs": [],
   "source": [
    "with open('names_from_sent.txt', 'r') as f:\n",
    "    names = f.readlines()\n",
    "    names = [name.strip() for name in names]\n",
    "names_ids = []\n",
    "for name in names:\n",
    "    try:\n",
    "        names_ids.append(dictionary_filtered.token2id[name])\n",
    "    except:\n",
    "        pass\n",
    "dictionary_filtered.filter_tokens(bad_ids=names_ids)"
   ]
  },
  {
   "cell_type": "code",
   "execution_count": 31,
   "metadata": {
    "collapsed": false
   },
   "outputs": [
    {
     "data": {
      "text/plain": [
       "0"
      ]
     },
     "execution_count": 31,
     "metadata": {},
     "output_type": "execute_result"
    }
   ],
   "source": [
    "short_token_ids = [id for token, id in dictionary_filtered.token2id.items() if len(token) < 3]\n",
    "len(short_token_ids)"
   ]
  },
  {
   "cell_type": "code",
   "execution_count": 32,
   "metadata": {
    "collapsed": false
   },
   "outputs": [
    {
     "name": "stdout",
     "output_type": "stream",
     "text": [
      "Dictionary(19254 unique tokens: ['мерзнут', 'низк', 'послевоен', 'вложен', 'проникновен']...)\n"
     ]
    }
   ],
   "source": [
    "dictionary_filtered.filter_tokens(bad_ids=short_token_ids)\n",
    "print(dictionary_filtered)"
   ]
  },
  {
   "cell_type": "code",
   "execution_count": 33,
   "metadata": {
    "collapsed": false
   },
   "outputs": [],
   "source": [
    "dict_count_before= len(dictionary)\n",
    "corpus_size_before = sum([word[1] for document in corpus for word in document])"
   ]
  },
  {
   "cell_type": "code",
   "execution_count": 34,
   "metadata": {
    "collapsed": false
   },
   "outputs": [],
   "source": [
    "corpus = [dictionary_filtered.doc2bow(text) for text in splited_texts]\n",
    "dict_count_after = len(dictionary_filtered)\n",
    "corpus_size_after = sum([word[1] for document in corpus for word in document])"
   ]
  },
  {
   "cell_type": "markdown",
   "metadata": {},
   "source": [
    "### After filtering"
   ]
  },
  {
   "cell_type": "code",
   "execution_count": 35,
   "metadata": {
    "collapsed": false
   },
   "outputs": [
    {
     "name": "stdout",
     "output_type": "stream",
     "text": [
      "Dictionary size\n",
      "Before: 79844; after: 19254\n",
      "Corpus size\n",
      "Before: 6043050; after: 4336094\n"
     ]
    }
   ],
   "source": [
    "print('Dictionary size\\nBefore: {}; after: {}\\nCorpus size\\nBefore: {}; after: {}'.format(\n",
    "      dict_count_before, dict_count_after, corpus_size_before, corpus_size_after))"
   ]
  },
  {
   "cell_type": "code",
   "execution_count": 36,
   "metadata": {
    "collapsed": false
   },
   "outputs": [],
   "source": [
    "dictionary_filtered.save('models_bin/dictionary_filtered')"
   ]
  },
  {
   "cell_type": "markdown",
   "metadata": {},
   "source": [
    "## Model"
   ]
  },
  {
   "cell_type": "markdown",
   "metadata": {},
   "source": [
    "If already trained before"
   ]
  },
  {
   "cell_type": "code",
   "execution_count": 37,
   "metadata": {
    "collapsed": false
   },
   "outputs": [],
   "source": [
    "dictionary_filtered = corpora.Dictionary.load('models_bin/dictionary_filtered')"
   ]
  },
  {
   "cell_type": "code",
   "execution_count": 38,
   "metadata": {
    "collapsed": false
   },
   "outputs": [
    {
     "name": "stdout",
     "output_type": "stream",
     "text": [
      "CPU times: user 8.89 s, sys: 180 ms, total: 9.07 s\n",
      "Wall time: 9.08 s\n"
     ]
    }
   ],
   "source": [
    "%%time\n",
    "splited_texts = [text.split() for text in stemmed_posts_texts]\n",
    "corpus = [dictionary_filtered.doc2bow(text) for text in splited_texts]"
   ]
  },
  {
   "cell_type": "code",
   "execution_count": 108,
   "metadata": {
    "collapsed": false
   },
   "outputs": [
    {
     "name": "stdout",
     "output_type": "stream",
     "text": [
      "CPU times: user 2h 39min 57s, sys: 4h 49min 12s, total: 7h 29min 9s\n",
      "Wall time: 2h 9min 11s\n"
     ]
    }
   ],
   "source": [
    "%%time\n",
    "ldamodel = models.LdaModel(corpus, id2word=dictionary_filtered, num_topics=100, passes=50,\n",
    "                                                  alpha='auto', eta='auto')"
   ]
  },
  {
   "cell_type": "code",
   "execution_count": 109,
   "metadata": {
    "collapsed": true
   },
   "outputs": [],
   "source": [
    "ldamodel.save('models_bin/lda')"
   ]
  },
  {
   "cell_type": "code",
   "execution_count": 39,
   "metadata": {
    "collapsed": true
   },
   "outputs": [],
   "source": [
    "ldamodel = models.LdaModel.load('models_bin/lda')"
   ]
  },
  {
   "cell_type": "code",
   "execution_count": 121,
   "metadata": {
    "collapsed": true
   },
   "outputs": [
    {
     "name": "stdout",
     "output_type": "stream",
     "text": [
      "Topic 0: \n",
      "нежн 0.00407562625664\n",
      "опуст 0.00405112070126\n",
      "губ 0.00404624085593\n",
      "мерзк 0.00335867869005\n",
      "улыбнул 0.00335059516643\n",
      "Topic 1: \n",
      "вагон 0.0494769251661\n",
      "электричк 0.0179211332435\n",
      "тоннел 0.0128343685992\n",
      "пассажир 0.0126030751294\n",
      "сумк 0.0117768727602\n",
      "Topic 2: \n",
      "незнакомец 0.0197266948675\n",
      "шляп 0.0165146015073\n",
      "юнош 0.0147169870689\n",
      "незнакомц 0.0106928569065\n",
      "коп 0.00979636718716\n",
      "Topic 3: \n",
      "балкон 0.026482382523\n",
      "ключ 0.0250729873684\n",
      "входн 0.0147749259507\n",
      "площадк 0.0142726807687\n",
      "ручк 0.0139402488656\n",
      "Topic 4: \n",
      "мяс 0.0517987944559\n",
      "вкусн 0.0156952244778\n",
      "голод 0.0130289119977\n",
      "съел 0.0107677799036\n",
      "блюд 0.00987645827467\n",
      "Topic 5: \n",
      "зеркал 0.0699687010892\n",
      "отражен 0.0693863446228\n",
      "стекл 0.0368283414202\n",
      "отража 0.0125239173765\n",
      "зеркальн 0.0118956855874\n",
      "Topic 6: \n",
      "труб 0.0285230767071\n",
      "июл 0.0152907662158\n",
      "кана 0.00964428408648\n",
      "хрен 0.00880054171089\n",
      "шипен 0.00681247630183\n",
      "Topic 7: \n",
      "коф 0.0102814975899\n",
      "чайник 0.00657297213193\n",
      "чашк 0.00518832026018\n",
      "кружк 0.00500943378038\n",
      "сумк 0.00488299546912\n",
      "Topic 8: \n",
      "могил 0.0676185881125\n",
      "гроб 0.0620553710619\n",
      "покойник 0.0181162029844\n",
      "памятник 0.0169232331204\n",
      "крест 0.0158639097547\n",
      "Topic 9: \n",
      "куст 0.0127584864761\n",
      "трав 0.0105355325036\n",
      "ветк 0.00937132039515\n",
      "километр 0.00818656482504\n",
      "шли 0.00815627427369\n",
      "Topic 10: \n",
      "лифт 0.0781546840006\n",
      "кнопк 0.0241818119463\n",
      "нажа 0.0150041948246\n",
      "шахт 0.0125807697165\n",
      "поднима 0.0118910146653\n",
      "Topic 11: \n",
      "фотограф 0.165947257257\n",
      "фот 0.0694826435522\n",
      "корабл 0.0408203032787\n",
      "снимк 0.0242782975333\n",
      "судн 0.0154569219475\n",
      "Topic 12: \n",
      "снег 0.0791798251342\n",
      "машинк 0.0183863773177\n",
      "будк 0.0134302741411\n",
      "снежн 0.0113467003376\n",
      "сугроб 0.00957677057137\n",
      "Topic 13: \n",
      "лошад 0.0455735568201\n",
      "глазок 0.0353969387508\n",
      "плащ 0.0343027637794\n",
      "настойчив 0.0145421293808\n",
      "стуч 0.0129306681926\n",
      "Topic 14: \n",
      "ребёнк 0.0566761712362\n",
      "ребёнок 0.039094269723\n",
      "усадьб 0.0110130399003\n",
      "санатор 0.00988152552993\n",
      "сущност 0.00831488302692\n",
      "Topic 15: \n",
      "водител 0.0285407027839\n",
      "автомобил 0.0241551273985\n",
      "трасс 0.0137224912906\n",
      "задн 0.0133206022416\n",
      "скорост 0.0129743590856\n",
      "Topic 16: \n",
      "ноутбук 0.014253876356\n",
      "господин 0.0056776711701\n",
      "добав 0.00539834453269\n",
      "спальн 0.00490583879438\n",
      "пикник 0.00489143662306\n",
      "Topic 17: \n",
      "эксперимент 0.00729828586213\n",
      "способн 0.00644281266782\n",
      "мозг 0.00559025190884\n",
      "болезн 0.00550199802991\n",
      "способ 0.00471610565307\n",
      "Topic 18: \n",
      "фильм 0.137239296427\n",
      "сцен 0.0156797501636\n",
      "кин 0.0134825765721\n",
      "рол 0.0104805775009\n",
      "театр 0.0102073955053\n",
      "Topic 19: \n",
      "туалет 0.0502625438531\n",
      "крыс 0.0458287467347\n",
      "пещер 0.0248012413472\n",
      "туннел 0.0230444453826\n",
      "вход 0.0118390393733\n",
      "Topic 20: \n",
      "дочк 0.0780177091732\n",
      "дочер 0.0501753067006\n",
      "младш 0.0296829109255\n",
      "старш 0.0198146110638\n",
      "крестик 0.0136546752335\n",
      "Topic 21: \n",
      "лейтенант 0.0313195571262\n",
      "офицер 0.0270230306816\n",
      "танк 0.018367821668\n",
      "взрыв 0.0151562250952\n",
      "племянниц 0.0104124489235\n",
      "Topic 22: \n",
      "свеч 0.0738152049751\n",
      "ритуа 0.0233054999031\n",
      "круг 0.0219991165539\n",
      "сеанс 0.0175061445052\n",
      "спичк 0.0153993601117\n",
      "Topic 23: \n",
      "свекров 0.0234420136044\n",
      "коробк 0.0212931706824\n",
      "невестк 0.00888669065287\n",
      "покойниц 0.00815575666092\n",
      "широк 0.00635147787117\n",
      "Topic 24: \n",
      "магазин 0.105071108653\n",
      "касс 0.010048318859\n",
      "витрин 0.00934601056064\n",
      "продукт 0.0092472186474\n",
      "лыс 0.00923455598664\n",
      "Topic 25: \n",
      "крыл 0.0249115007079\n",
      "пруд 0.0138562939683\n",
      "яйц 0.0106775848721\n",
      "бабочк 0.00587981838311\n",
      "цеп 0.00517321665073\n",
      "Topic 26: \n",
      "игр 0.0679674907042\n",
      "реж 0.0217338752488\n",
      "сол 0.0123953676601\n",
      "явля 0.0113252221768\n",
      "персонаж 0.00883247285205\n",
      "Topic 27: \n",
      "заражен 0.0169008205915\n",
      "вирус 0.0153432364616\n",
      "русалк 0.0153093079999\n",
      "мастерск 0.0139428849606\n",
      "помад 0.0131863071968\n",
      "Topic 28: \n",
      "пошёл 0.0408143527991\n",
      "пришёл 0.0232675331036\n",
      "подошёл 0.0223097860562\n",
      "нём 0.0219523479629\n",
      "чём 0.0211198336482\n",
      "Topic 29: \n",
      "рек 0.0967001877199\n",
      "мост 0.0703890841469\n",
      "камн 0.026787325077\n",
      "скал 0.0145431475222\n",
      "рыбак 0.0124399314202\n",
      "Topic 30: \n",
      "палатк 0.0522614831716\n",
      "костр 0.0337021275023\n",
      "избушк 0.0191399021931\n",
      "костер 0.0188590651562\n",
      "зме 0.0187258237483\n",
      "Topic 31: \n",
      "гараж 0.0277803388192\n",
      "алл 0.0184939565466\n",
      "сапог 0.00821148765468\n",
      "рац 0.00681864788097\n",
      "ирк 0.00650329925518\n",
      "Topic 32: \n",
      "спальн 0.0144680848449\n",
      "легл 0.012586407318\n",
      "одея 0.0123657484541\n",
      "уснул 0.0107093897265\n",
      "зал 0.0101376211607\n",
      "Topic 33: \n",
      "лестниц 0.0789684906962\n",
      "чердак 0.0552277866906\n",
      "крыш 0.0282761708116\n",
      "спуска 0.0173605921737\n",
      "поднима 0.0124015593651\n",
      "Topic 34: \n",
      "живот 0.0111083495331\n",
      "плот 0.0093206582889\n",
      "подошел 0.0061071323337\n",
      "кусок 0.00514022044553\n",
      "горл 0.00506708142825\n",
      "Topic 35: \n",
      "сторож 0.0552463659314\n",
      "покойник 0.012615555286\n",
      "сторожк 0.0120081196353\n",
      "хат 0.0099311651258\n",
      "смен 0.00838938331527\n",
      "Topic 36: \n",
      "окса 0.0292239546064\n",
      "гвозд 0.0248644764503\n",
      "манек 0.0131003799941\n",
      "лодж 0.00925039812374\n",
      "птиц 0.00592535478672\n",
      "Topic 37: \n",
      "полицейск 0.0611947760533\n",
      "ключ 0.0194758664662\n",
      "напарник 0.0138072537734\n",
      "халат 0.0089805511066\n",
      "отел 0.00872044817465\n",
      "Topic 38: \n",
      "лагер 0.136209257927\n",
      "корпус 0.0313546646618\n",
      "отряд 0.0251854190757\n",
      "вожат 0.0242880737321\n",
      "забор 0.0118523958222\n",
      "Topic 39: \n",
      "карт 0.00556670662028\n",
      "смысл 0.00526735537069\n",
      "родственник 0.00444839649055\n",
      "интерес 0.00434953773031\n",
      "приятн 0.00395993851238\n",
      "Topic 40: \n",
      "автобус 0.0963552293861\n",
      "остановк 0.0648517709929\n",
      "салон 0.021485429298\n",
      "водител 0.0180144218131\n",
      "маршрутк 0.0135281320511\n",
      "Topic 41: \n",
      "картин 0.0426280501853\n",
      "страниц 0.0234514739492\n",
      "портрет 0.0196472025727\n",
      "бумаг 0.014698005596\n",
      "нарисова 0.0138086978025\n",
      "Topic 42: \n",
      "неб 0.0061335648777\n",
      "холод 0.00534893725745\n",
      "ветр 0.00472848243261\n",
      "дыхан 0.00467025167202\n",
      "ярк 0.00438213600404\n",
      "Topic 43: \n",
      "ката 0.0138261194459\n",
      "горк 0.0126501937659\n",
      "дядьк 0.0118648350943\n",
      "дыр 0.011140328271\n",
      "эскалатор 0.00876103142595\n",
      "Topic 44: \n",
      "кресл 0.0295441068653\n",
      "браслет 0.00851016906955\n",
      "аномал 0.00773346427446\n",
      "шлеп 0.00617756044489\n",
      "спрята 0.00595145323021\n",
      "Topic 45: \n",
      "здан 0.0511358636088\n",
      "привиден 0.0140610707104\n",
      "заброшен 0.0114782394856\n",
      "жител 0.0103091424911\n",
      "гостиниц 0.0102470247394\n",
      "Topic 46: \n",
      "печк 0.0121786410158\n",
      "печ 0.0109767827627\n",
      "кур 0.0102859008466\n",
      "идет 0.00891062779128\n",
      "крыльц 0.0086661258603\n",
      "Topic 47: \n",
      "кошк 0.065867040034\n",
      "игрушк 0.0469221862349\n",
      "лап 0.0179710309882\n",
      "шерст 0.0165390350599\n",
      "медвед 0.0121272833302\n",
      "Topic 48: \n",
      "ребенк 0.0731917945908\n",
      "ребенок 0.0470173996854\n",
      "плач 0.0218175121389\n",
      "беремен 0.0133940521109\n",
      "кроватк 0.0123820558928\n",
      "Topic 49: \n",
      "пакет 0.0190319181098\n",
      "оператор 0.0155258589543\n",
      "гараж 0.0109705065979\n",
      "бак 0.00954251482365\n",
      "мусорн 0.00824490003276\n",
      "Topic 50: \n",
      "алён 0.0237112750131\n",
      "эпизод 0.014428871908\n",
      "клетк 0.0125107015128\n",
      "сцен 0.00852328003772\n",
      "пинк 0.00834938961908\n",
      "Topic 51: \n",
      "колдун 0.0185327717452\n",
      "смех 0.017683853009\n",
      "кольц 0.0158953094157\n",
      "хутор 0.0107908132873\n",
      "крестн 0.00515138678607\n",
      "Topic 52: \n",
      "вып 0.0156656861433\n",
      "бутылк 0.0140825458949\n",
      "сигарет 0.0127210497747\n",
      "пив 0.0114931601338\n",
      "каф 0.0107469047619\n",
      "Topic 53: \n",
      "бан 0.0383437460974\n",
      "пес 0.0182602577499\n",
      "пса 0.0163599032304\n",
      "пёс 0.012163029568\n",
      "вопл 0.0105866294368\n",
      "Topic 54: \n",
      "андр 0.0549203838745\n",
      "шкаф 0.0512015542537\n",
      "дверц 0.0160345031175\n",
      "холодильник 0.0046040093966\n",
      "поиск 0.0033375731769\n",
      "Topic 55: \n",
      "камер 0.0431958969529\n",
      "компьютер 0.0336684796742\n",
      "виде 0.0276704462116\n",
      "экра 0.0199066918601\n",
      "сайт 0.0188330652563\n",
      "Topic 56: \n",
      "явлен 0.0086170607273\n",
      "известн 0.00861362153284\n",
      "явля 0.00702924979549\n",
      "век 0.00564467450909\n",
      "жител 0.00557555543039\n",
      "Topic 57: \n",
      "палат 0.0557698895115\n",
      "медсестр 0.0264215919158\n",
      "пациент 0.0215055477035\n",
      "кабинет 0.0179072489172\n",
      "операц 0.012110470197\n",
      "Topic 58: \n",
      "подва 0.0502725318902\n",
      "подвал 0.0279449691094\n",
      "фонарик 0.0248058286002\n",
      "лестниц 0.0235915982586\n",
      "заброшен 0.0219314476851\n",
      "Topic 59: \n",
      "силуэт 0.00848133451603\n",
      "движен 0.00555886597285\n",
      "фигур 0.00523759464936\n",
      "шел 0.00488231180207\n",
      "вдол 0.00468470072159\n",
      "Topic 60: \n",
      "поселк 0.0408822654311\n",
      "хлеб 0.0282514338427\n",
      "бес 0.0231742964082\n",
      "товарищ 0.0216685758952\n",
      "поселок 0.0205227938033\n",
      "Topic 61: \n",
      "камер 0.0256072417651\n",
      "заключен 0.0135097595513\n",
      "сша 0.0132702365293\n",
      "газ 0.0121124073475\n",
      "испытуем 0.0108676071807\n",
      "Topic 62: \n",
      "картин 0.0223511405293\n",
      "тёти 0.0120575809053\n",
      "менеджер 0.0111721438875\n",
      "вошел 0.009715604836\n",
      "спиш 0.00922328529566\n",
      "Topic 63: \n",
      "ива 0.0364291750059\n",
      "выстрел 0.0313702018484\n",
      "пистолет 0.0207722952793\n",
      "оруж 0.014604673308\n",
      "огон 0.013007794199\n",
      "Topic 64: \n",
      "соседк 0.0137058924103\n",
      "перееха 0.0093354376528\n",
      "хозяйк 0.00812800488216\n",
      "родственник 0.00576301544759\n",
      "событ 0.00494905060031\n",
      "Topic 65: \n",
      "ладон 0.00877201726515\n",
      "ствол 0.00726545126535\n",
      "чемода 0.00661268493939\n",
      "фотограф 0.00472174844077\n",
      "лагер 0.00407978825428\n",
      "Topic 66: \n",
      "трубк 0.123496743022\n",
      "звонк 0.0450825461665\n",
      "прабабушк 0.0261301977166\n",
      "мобильн 0.025134003786\n",
      "зазвон 0.0249924854299\n",
      "Topic 67: \n",
      "деньг 0.0214808824761\n",
      "денег 0.012259513208\n",
      "коллег 0.00957653106088\n",
      "цыганк 0.00946267309357\n",
      "офис 0.00879653475484\n",
      "Topic 68: \n",
      "желан 0.00418436105998\n",
      "договор 0.00361594112577\n",
      "язык 0.00356701942716\n",
      "числ 0.00335387153302\n",
      "обязательн 0.00327054155281\n",
      "Topic 69: \n",
      "рыб 0.0359733286365\n",
      "лодк 0.0156163520121\n",
      "поверхн 0.013861111155\n",
      "рыбалк 0.0135144192619\n",
      "плава 0.0116616745051\n",
      "Topic 70: \n",
      "гуля 0.0147342599351\n",
      "зовут 0.0099433459901\n",
      "пойт 0.00952333176255\n",
      "комп 0.00734215550968\n",
      "стул 0.00681417008342\n",
      "Topic 71: \n",
      "старух 0.0952703937436\n",
      "старушк 0.0736503787612\n",
      "соседк 0.0293484641279\n",
      "карт 0.0215821838382\n",
      "бабульк 0.0118232050757\n",
      "Topic 72: \n",
      "ольг 0.0384013527881\n",
      "подружк 0.0152091175193\n",
      "снеговик 0.00999355910027\n",
      "вообража 0.00985807698163\n",
      "точ 0.00947890249288\n",
      "Topic 73: \n",
      "солдат 0.0252637292848\n",
      "воен 0.0183881923929\n",
      "завод 0.0116055738365\n",
      "погреб 0.0115444016696\n",
      "сара 0.011047392923\n",
      "Topic 74: \n",
      "улыбнул 0.00845212981618\n",
      "нрав 0.00792232009292\n",
      "можеш 0.00683454773749\n",
      "помоч 0.0062756591608\n",
      "улыба 0.00604962793162\n",
      "Topic 75: \n",
      "охранник 0.0317227890877\n",
      "девочек 0.0131769820254\n",
      "вдов 0.00785099799438\n",
      "мыл 0.00745066147267\n",
      "близняшк 0.00623088749155\n",
      "Topic 76: \n",
      "дач 0.0397664184633\n",
      "забор 0.0317487852891\n",
      "калитк 0.0226327343602\n",
      "ворот 0.0174687345661\n",
      "участк 0.0155919835895\n",
      "Topic 77: \n",
      "музык 0.0944063381525\n",
      "наушник 0.0343913120387\n",
      "восков 0.0126549655076\n",
      "плеер 0.0112895982967\n",
      "адск 0.00943054584206\n",
      "Topic 78: \n",
      "скелет 0.02544379635\n",
      "песн 0.0247464430317\n",
      "кап 0.0211305296512\n",
      "пианин 0.0160805005086\n",
      "кладовк 0.0134377885809\n",
      "Topic 79: \n",
      "топор 0.02247014027\n",
      "особняк 0.0154998456916\n",
      "камин 0.0112846030156\n",
      "подростк 0.00644768311969\n",
      "амбар 0.00562930332456\n",
      "Topic 80: \n",
      "сне 0.0429090841904\n",
      "сны 0.0226693507794\n",
      "фигур 0.0208026372053\n",
      "присн 0.0183251984783\n",
      "снит 0.0166964144938\n",
      "Topic 81: \n",
      "жертв 0.0414537571443\n",
      "преступлен 0.0170048376078\n",
      "летн 0.0132191510605\n",
      "казн 0.013111181273\n",
      "преступник 0.00974500092247\n",
      "Topic 82: \n",
      "болот 0.0791645893728\n",
      "тума 0.0717250884843\n",
      "бомж 0.0484950368393\n",
      "сказк 0.0238821856685\n",
      "егер 0.0145544557556\n",
      "Topic 83: \n",
      "овраг 0.0156903985182\n",
      "топор 0.0066458646549\n",
      "ветер 0.0055542188014\n",
      "склон 0.00505310728834\n",
      "телег 0.00498231317184\n",
      "Topic 84: \n",
      "улыба 0.00699801700882\n",
      "студент 0.00631778071293\n",
      "курс 0.0060298987398\n",
      "встреча 0.00561181460319\n",
      "вовс 0.00521066325595\n",
      "Topic 85: \n",
      "дожд 0.0638203509016\n",
      "молн 0.0327912255502\n",
      "гроз 0.020408717319\n",
      "яблок 0.0201605154216\n",
      "гром 0.0184358646968\n",
      "Topic 86: \n",
      "самолет 0.0201991251074\n",
      "праздник 0.017556900069\n",
      "рейс 0.00761351497577\n",
      "новогодн 0.00753165828468\n",
      "билет 0.00693109778657\n",
      "Topic 87: \n",
      "пятниц 0.00818662856927\n",
      "числ 0.00599883891269\n",
      "ала 0.00525004941023\n",
      "умира 0.00495968303937\n",
      "мозг 0.00495744017102\n",
      "Topic 88: \n",
      "священник 0.0353374607041\n",
      "век 0.0184423194283\n",
      "церков 0.0174313491663\n",
      "замк 0.0157160867422\n",
      "крест 0.014320305657\n",
      "Topic 89: \n",
      "записк 0.0391152415799\n",
      "сообщен 0.0289308187546\n",
      "тетрад 0.0152772599891\n",
      "смс 0.0143765328254\n",
      "пиш 0.0123767086577\n",
      "Topic 90: \n",
      "милиц 0.04338729642\n",
      "камер 0.0185620162361\n",
      "следовател 0.0166925135439\n",
      "участков 0.0126556227474\n",
      "свин 0.00955091223339\n",
      "Topic 91: \n",
      "групп 0.0345233269202\n",
      "баз 0.0116313227136\n",
      "пляж 0.0101623693355\n",
      "лаборатор 0.00729971026317\n",
      "район 0.00655058733679\n",
      "Topic 92: \n",
      "класс 0.0638987293704\n",
      "урок 0.0331137959444\n",
      "учител 0.0320003756851\n",
      "школьн 0.0217160857348\n",
      "одноклассник 0.0212418256496\n",
      "Topic 93: \n",
      "колодц 0.0191388216976\n",
      "мозг 0.0186919786973\n",
      "колодец 0.013680283575\n",
      "испытыва 0.0129893474141\n",
      "галлюцинац 0.0123757164814\n",
      "Topic 94: \n",
      "губ 0.0065723388364\n",
      "горл 0.00581314285027\n",
      "послыша 0.00503142869258\n",
      "колен 0.00474278046577\n",
      "остр 0.0043762485333\n",
      "Topic 95: \n",
      "плат 0.0271654601238\n",
      "свадьб 0.023436337171\n",
      "невест 0.0184335919508\n",
      "замуж 0.0143744889865\n",
      "счастлив 0.013272423747\n",
      "Topic 96: \n",
      "веревк 0.0135258761195\n",
      "коляск 0.00951555765208\n",
      "каталк 0.00756831881459\n",
      "ощуп 0.00716147685951\n",
      "дыхан 0.00614431431256\n",
      "Topic 97: \n",
      "девчонк 0.0737613830129\n",
      "мальчишк 0.0391642870166\n",
      "речк 0.019575949703\n",
      "утонул 0.0171357900334\n",
      "компан 0.0149835133126\n",
      "Topic 98: \n",
      "ворот 0.0158301491352\n",
      "мелод 0.0145335007139\n",
      "цех 0.0119176657507\n",
      "кон 0.0113802066683\n",
      "меч 0.0098625983397\n",
      "Topic 99: \n",
      "письм 0.0300458213146\n",
      "ящик 0.0145287073197\n",
      "адрес 0.00971872352838\n",
      "конверт 0.00887229174817\n",
      "газет 0.00846876095609\n"
     ]
    }
   ],
   "source": [
    "for i, topic in ldamodel.show_topics(num_topics=100, num_words=5, formatted=False):\n",
    "    print(\"Topic \" + str(i) + ': ')\n",
    "    for word, p in topic:\n",
    "        print(word, p)"
   ]
  },
  {
   "cell_type": "code",
   "execution_count": 127,
   "metadata": {
    "collapsed": true
   },
   "outputs": [
    {
     "name": "stdout",
     "output_type": "stream",
     "text": [
      "Над нами не небо\n",
      "Над нами земля\n",
      "Сидим здесь и ждём мы\n",
      "Судного дня\n",
      "Мы верим в победу\n",
      "Мы верим главе\n",
      "Мы служим правителю\n",
      "Ему,Сатане\n",
      "Веками мы жаждали день отмщения\n",
      "Когда вновь увидим мы солнца свечение\n",
      "Когда под влиянием адских сил тьмы \n",
      "На землю ворвётся легион Сатаны\n",
      "И будем мы сеять разруху и смерть\n",
      "И кровью затопим бетонную твердь\n",
      "Праведник,грешник без разницы нам\n",
      "На нашем пути всех порвём пополам\n",
      "И с силами света скрестим мы мечи\n",
      "Готовьтесь святоши,ведь дни сочтены\n",
      "Мы будем сражаться за полный контроль\n",
      "Врагам предоставим лишь страх мы и боль\n",
      "И ознаменуем мы новую эру\n",
      "Садизма и смерти\n",
      "Хвала Люциферу!\n"
     ]
    }
   ],
   "source": [
    "print(sorted(posts.text, key=len)[10])"
   ]
  },
  {
   "cell_type": "code",
   "execution_count": 128,
   "metadata": {
    "collapsed": false
   },
   "outputs": [
    {
     "data": {
      "text/plain": [
       "8650"
      ]
     },
     "execution_count": 128,
     "metadata": {},
     "output_type": "execute_result"
    }
   ],
   "source": [
    "(posts.text == sorted(posts.text, key=len)[10]).argmax()"
   ]
  },
  {
   "cell_type": "code",
   "execution_count": 129,
   "metadata": {
    "collapsed": false
   },
   "outputs": [
    {
     "data": {
      "text/plain": [
       "[(5, 0.067236003295404315),\n",
       " (11, 0.071303583302979825),\n",
       " (17, 0.099989639925973969),\n",
       " (68, 0.26965271569839255),\n",
       " (88, 0.11139765908173584)]"
      ]
     },
     "execution_count": 129,
     "metadata": {},
     "output_type": "execute_result"
    }
   ],
   "source": [
    "ldamodel.get_document_topics(list(corpus)[8650], minimum_probability=0.05)  # 994 666"
   ]
  },
  {
   "cell_type": "code",
   "execution_count": 130,
   "metadata": {
    "collapsed": false
   },
   "outputs": [
    {
     "name": "stdout",
     "output_type": "stream",
     "text": [
      "желан 0.00418436105998\n",
      "договор 0.00361594112577\n",
      "язык 0.00356701942716\n",
      "числ 0.00335387153302\n",
      "обязательн 0.00327054155281\n",
      "услов 0.00319434652678\n",
      "грех 0.00290955247629\n",
      "исполн 0.00283516359889\n",
      "княз 0.00280812985323\n",
      "пентаграмм 0.00278725096603\n"
     ]
    }
   ],
   "source": [
    "topic = ldamodel.show_topic(68, 10) # 60 89 94\n",
    "for word, p in topic:\n",
    "    print(word, p)"
   ]
  },
  {
   "cell_type": "code",
   "execution_count": 113,
   "metadata": {
    "collapsed": false
   },
   "outputs": [
    {
     "name": "stdout",
     "output_type": "stream",
     "text": [
      "432.791015748\n"
     ]
    }
   ],
   "source": [
    "perplexity = ldamodel.log_perplexity(list(corpus))\n",
    "print(2**(-perplexity))"
   ]
  },
  {
   "cell_type": "markdown",
   "metadata": {},
   "source": [
    "### Validation"
   ]
  },
  {
   "cell_type": "code",
   "execution_count": 241,
   "metadata": {
    "collapsed": false
   },
   "outputs": [],
   "source": [
    "def get_corpus_matrix(model, corpus):\n",
    "    matrix = np.zeros((len(corpus), model.num_topics))\n",
    "    for i in range(len(corpus)):\n",
    "        doc_topics = model.get_document_topics(list(corpus)[i], minimum_probability=0.05)\n",
    "        for topic_id, prob in doc_topics:\n",
    "            matrix[i, topic_id] = prob\n",
    "    return matrix"
   ]
  },
  {
   "cell_type": "code",
   "execution_count": 249,
   "metadata": {
    "collapsed": false
   },
   "outputs": [
    {
     "name": "stdout",
     "output_type": "stream",
     "text": [
      "CPU times: user 9.71 s, sys: 352 ms, total: 10.1 s\n",
      "Wall time: 23.1 s\n"
     ]
    }
   ],
   "source": [
    "%%time\n",
    "splited_train_texts = [text.split() for text in x_train]\n",
    "corpus_train_dataset = [dictionary_filtered.doc2bow(text) for text in splited_train_texts]\n",
    "splited_test_texts = [text.split() for text in x_test]\n",
    "corpus_test_dataset = [dictionary_filtered.doc2bow(text) for text in splited_test_texts]"
   ]
  },
  {
   "cell_type": "code",
   "execution_count": 250,
   "metadata": {
    "collapsed": false
   },
   "outputs": [
    {
     "data": {
      "text/plain": [
       "(16748, 4187)"
      ]
     },
     "execution_count": 250,
     "metadata": {},
     "output_type": "execute_result"
    }
   ],
   "source": [
    "len(corpus_train_dataset), len(corpus_test_dataset)"
   ]
  },
  {
   "cell_type": "code",
   "execution_count": 251,
   "metadata": {
    "collapsed": false
   },
   "outputs": [
    {
     "name": "stdout",
     "output_type": "stream",
     "text": [
      "CPU times: user 5min 32s, sys: 10min 55s, total: 16min 28s\n",
      "Wall time: 4min 26s\n"
     ]
    }
   ],
   "source": [
    "%%time\n",
    "X_train_lda = get_corpus_matrix(ldamodel, corpus_train_dataset)\n",
    "X_test_lda = get_corpus_matrix(ldamodel, corpus_test_dataset)"
   ]
  },
  {
   "cell_type": "code",
   "execution_count": 425,
   "metadata": {
    "collapsed": true
   },
   "outputs": [],
   "source": [
    "pd.DataFrame(X_train_lda).to_csv('features/X_train_lda.csv.gz', index=False, compression='gzip')\n",
    "pd.DataFrame(X_test_lda).to_csv('features/X_test_lda.csv.gz', index=False, compression='gzip')"
   ]
  },
  {
   "cell_type": "code",
   "execution_count": 278,
   "metadata": {
    "collapsed": false
   },
   "outputs": [],
   "source": [
    "tsne = TSNE()\n",
    "points = tsne.fit_transform(X_train_lda[:5000,:])"
   ]
  },
  {
   "cell_type": "code",
   "execution_count": 279,
   "metadata": {
    "collapsed": false
   },
   "outputs": [
    {
     "data": {
      "text/plain": [
       "<matplotlib.collections.PathCollection at 0x7f3621987ac8>"
      ]
     },
     "execution_count": 279,
     "metadata": {},
     "output_type": "execute_result"
    },
    {
     "data": {
      "image/png": "[encoded data removed]",
      "text/plain": [
       "<matplotlib.figure.Figure at 0x7f366c0b7278>"
      ]
     },
     "metadata": {},
     "output_type": "display_data"
    }
   ],
   "source": [
    "plt.scatter(pointsts[:, 0], points[:, 1], c=y_train[:5000], alpha=0.8)"
   ]
  },
  {
   "cell_type": "code",
   "execution_count": 255,
   "metadata": {
    "collapsed": false
   },
   "outputs": [
    {
     "name": "stdout",
     "output_type": "stream",
     "text": [
      "CPU times: user 232 ms, sys: 4 ms, total: 236 ms\n",
      "Wall time: 251 ms\n"
     ]
    }
   ],
   "source": [
    "%%time\n",
    "lr = lm.LogisticRegression()\n",
    "lr.fit(X_train_lda, y_train)\n",
    "pred = lr.predict(X_test_lda)"
   ]
  },
  {
   "cell_type": "code",
   "execution_count": 256,
   "metadata": {
    "collapsed": false
   },
   "outputs": [
    {
     "data": {
      "text/plain": [
       "0.40028660138524003"
      ]
     },
     "execution_count": 256,
     "metadata": {},
     "output_type": "execute_result"
    }
   ],
   "source": [
    "metrics.accuracy_score(y_test, pred)"
   ]
  },
  {
   "cell_type": "code",
   "execution_count": 273,
   "metadata": {
    "collapsed": false
   },
   "outputs": [
    {
     "name": "stdout",
     "output_type": "stream",
     "text": [
      "CPU times: user 1min 59s, sys: 92 ms, total: 1min 59s\n",
      "Wall time: 2min\n"
     ]
    }
   ],
   "source": [
    "%%time\n",
    "lr = ensemble.GradientBoostingClassifier(n_estimators=500)\n",
    "lr.fit(X_train_lda, y_train)\n",
    "pred = lr.predict(X_test_lda)"
   ]
  },
  {
   "cell_type": "code",
   "execution_count": 274,
   "metadata": {
    "collapsed": false
   },
   "outputs": [
    {
     "data": {
      "text/plain": [
       "0.4119894912825412"
      ]
     },
     "execution_count": 274,
     "metadata": {},
     "output_type": "execute_result"
    }
   ],
   "source": [
    "metrics.accuracy_score(y_test, pred)"
   ]
  },
  {
   "cell_type": "code",
   "execution_count": 275,
   "metadata": {
    "collapsed": false
   },
   "outputs": [
    {
     "data": {
      "text/plain": [
       "<matplotlib.colorbar.Colorbar at 0x7f366c095898>"
      ]
     },
     "execution_count": 275,
     "metadata": {},
     "output_type": "execute_result"
    },
    {
     "data": {
      "image/png": "[encoded data removed]",
      "text/plain": [
       "<matplotlib.figure.Figure at 0x7f362bbd27b8>"
      ]
     },
     "metadata": {},
     "output_type": "display_data"
    }
   ],
   "source": [
    "matr = metrics.confusion_matrix(y_test, pred)\n",
    "plt.imshow(matr, interpolation='nearest', cmap=plt.cm.Reds)\n",
    "plt.colorbar()"
   ]
  },
  {
   "cell_type": "markdown",
   "metadata": {
    "collapsed": true
   },
   "source": [
    "# word2vec"
   ]
  },
  {
   "cell_type": "code",
   "execution_count": 281,
   "metadata": {
    "collapsed": false
   },
   "outputs": [],
   "source": [
    "def clear_sentences(texts, with_stemmer=False, to_lower=True, min_word_in_sent=3):\n",
    "    cleared_sentences = []\n",
    "    stop_words = get_stop_words('ru')\n",
    "    stemmer = Stemmer.Stemmer('russian')\n",
    "\n",
    "    for text in texts:\n",
    "        sentences = segmenter.split_single(re.sub('( \\n \\n)|( \\n\\n)', '\\n', text))\n",
    "        for sentence in sentences:\n",
    "            if to_lower:\n",
    "                sentence = sentence.lower()\n",
    "            sentence = re.sub('[^а-яА-ЯёЁ]', ' ', sentence)\n",
    "            sentence = sentence.split()\n",
    "            if len(sentence) >= min_word_in_sent:\n",
    "                cleared_sentences.append(sentence) \n",
    "    return cleared_sentences"
   ]
  },
  {
   "cell_type": "code",
   "execution_count": 328,
   "metadata": {
    "collapsed": false
   },
   "outputs": [
    {
     "name": "stdout",
     "output_type": "stream",
     "text": [
      "CPU times: user 4min 50s, sys: 20.9 s, total: 5min 11s\n",
      "Wall time: 12min 59s\n"
     ]
    }
   ],
   "source": [
    "%time clear_sent = clear_sentences(posts.text)"
   ]
  },
  {
   "cell_type": "code",
   "execution_count": 329,
   "metadata": {
    "collapsed": false
   },
   "outputs": [
    {
     "name": "stdout",
     "output_type": "stream",
     "text": [
      "со мной однажды произошёл совершенно невероятный случай которому до сих пор не могу найти объяснения я возвращался домой с работы ещё было светло а у меня надо сказать давно уже привычка смотреть на своё окно с улицы смотрю а в моём окне на девятом этаже стою я сам и на меня смотрю причём в той же ярко жёлтой рубашке что и в тот момент на мне была странно но я почти не испугался в тот момент просто удивился видимо сказывалось то что я на светлой людной улице когда я вошёл в квартиру естественно там никого не было только потом когда я осознал всю странность ситуации мне стало сильно не по себе\n"
     ]
    }
   ],
   "source": [
    "print(posts_texts[-1])"
   ]
  },
  {
   "cell_type": "code",
   "execution_count": 330,
   "metadata": {
    "collapsed": false
   },
   "outputs": [
    {
     "data": {
      "text/plain": [
       "['только',\n",
       " 'потом',\n",
       " 'когда',\n",
       " 'я',\n",
       " 'осознал',\n",
       " 'всю',\n",
       " 'странность',\n",
       " 'ситуации',\n",
       " 'мне',\n",
       " 'стало',\n",
       " 'сильно',\n",
       " 'не',\n",
       " 'по',\n",
       " 'себе']"
      ]
     },
     "execution_count": 330,
     "metadata": {},
     "output_type": "execute_result"
    }
   ],
   "source": [
    "clear_sent[-1]"
   ]
  },
  {
   "cell_type": "code",
   "execution_count": 286,
   "metadata": {
    "collapsed": false
   },
   "outputs": [
    {
     "name": "stdout",
     "output_type": "stream",
     "text": [
      "CPU times: user 8min 22s, sys: 548 ms, total: 8min 22s\n",
      "Wall time: 3min 30s\n"
     ]
    }
   ],
   "source": [
    "%time model = word2vec.Word2Vec(clear_sent, size=200)"
   ]
  },
  {
   "cell_type": "code",
   "execution_count": 61,
   "metadata": {
    "collapsed": true
   },
   "outputs": [],
   "source": [
    "model.save('models_bin/word2vec')"
   ]
  },
  {
   "cell_type": "code",
   "execution_count": 91,
   "metadata": {
    "collapsed": false
   },
   "outputs": [],
   "source": [
    "model = word2vec.Word2Vec.load('models_bin/word2vec')"
   ]
  },
  {
   "cell_type": "code",
   "execution_count": 428,
   "metadata": {
    "collapsed": false
   },
   "outputs": [
    {
     "data": {
      "text/plain": [
       "[('болезнь', 0.6736840605735779),\n",
       " ('месть', 0.5838950872421265),\n",
       " ('жертва', 0.5642502307891846),\n",
       " ('участь', 0.5607681274414062),\n",
       " ('любовь', 0.5381002426147461),\n",
       " ('гибель', 0.5165857672691345),\n",
       " ('порча', 0.5033100843429565),\n",
       " ('судьба', 0.49604398012161255),\n",
       " ('внешность', 0.4917110204696655),\n",
       " ('личность', 0.4873163402080536)]"
      ]
     },
     "execution_count": 428,
     "metadata": {},
     "output_type": "execute_result"
    }
   ],
   "source": [
    "model.most_similar('смерть')"
   ]
  },
  {
   "cell_type": "code",
   "execution_count": 289,
   "metadata": {
    "collapsed": false
   },
   "outputs": [
    {
     "data": {
      "text/plain": [
       "[('вино', 0.5631377696990967),\n",
       " ('сочное', 0.5536653399467468),\n",
       " ('кольцо', 0.5347784757614136),\n",
       " ('молоко', 0.534410834312439),\n",
       " ('покрывало', 0.511174201965332),\n",
       " ('оружие', 0.5061862468719482),\n",
       " ('печенье', 0.5052534341812134),\n",
       " ('сырое', 0.505222737789154),\n",
       " ('блюдо', 0.4968991279602051),\n",
       " ('свежее', 0.4949791431427002)]"
      ]
     },
     "execution_count": 289,
     "metadata": {},
     "output_type": "execute_result"
    }
   ],
   "source": [
    "model.most_similar('мясо')"
   ]
  },
  {
   "cell_type": "code",
   "execution_count": 290,
   "metadata": {
    "collapsed": false
   },
   "outputs": [
    {
     "data": {
      "text/plain": [
       "[('вино', 0.7027807235717773),\n",
       " ('водку', 0.6873305439949036),\n",
       " ('шашлык', 0.6841100454330444),\n",
       " ('жарить', 0.6624295115470886),\n",
       " ('разлили', 0.6617324352264404),\n",
       " ('пожарили', 0.6495035886764526),\n",
       " ('поели', 0.6385335922241211),\n",
       " ('мангал', 0.6359939575195312),\n",
       " ('пиццу', 0.6358096599578857),\n",
       " ('лимонад', 0.6318403482437134)]"
      ]
     },
     "execution_count": 290,
     "metadata": {},
     "output_type": "execute_result"
    }
   ],
   "source": [
    "model.most_similar(positive=['пиво', 'водка'])"
   ]
  },
  {
   "cell_type": "markdown",
   "metadata": {},
   "source": [
    "### Validation"
   ]
  },
  {
   "cell_type": "code",
   "execution_count": 101,
   "metadata": {
    "collapsed": true
   },
   "outputs": [],
   "source": [
    "def get_vector_from_words(words, model, num_features):\n",
    "    features = np.zeros((num_features,), dtype=np.float32)\n",
    "    n = 0\n",
    "    index2word = set(model.index2word)\n",
    "    \n",
    "    for word in words:\n",
    "        if word in index2word:\n",
    "            features += model[word]\n",
    "            n += 1\n",
    "    return features / n"
   ]
  },
  {
   "cell_type": "code",
   "execution_count": 102,
   "metadata": {
    "collapsed": true
   },
   "outputs": [],
   "source": [
    "def get_texts_vectors(texts, model, num_features):\n",
    "    texts_vectors = np.zeros((len(texts), num_features), dtype=np.float32)\n",
    "    \n",
    "    i = 0\n",
    "    for text in texts:\n",
    "        texts_vectors[i] = get_vector_from_words(text.split(), model, num_features)\n",
    "        i += 1\n",
    "    return texts_vectors"
   ]
  },
  {
   "cell_type": "code",
   "execution_count": 121,
   "metadata": {
    "collapsed": false
   },
   "outputs": [
    {
     "data": {
      "text/plain": [
       "'ольга шла улице новороссийской забрела случайно улице стоял сильный зной девушке сильно хотелось пить кармане денег еле хватало литр сока наверное придётся брать лимонад зайдя попавшийся магазин испыт'"
      ]
     },
     "execution_count": 121,
     "metadata": {},
     "output_type": "execute_result"
    }
   ],
   "source": [
    "x_train_no_stem[1][:200]"
   ]
  },
  {
   "cell_type": "code",
   "execution_count": 122,
   "metadata": {
    "collapsed": false
   },
   "outputs": [
    {
     "data": {
      "text/plain": [
       "'шла улиц новороссийск забрел случайн улиц стоя сильн зно девушк сильн хотел карман денег хвата литр '"
      ]
     },
     "execution_count": 122,
     "metadata": {},
     "output_type": "execute_result"
    }
   ],
   "source": [
    "x_train[1][:100]"
   ]
  },
  {
   "cell_type": "code",
   "execution_count": 123,
   "metadata": {
    "collapsed": false
   },
   "outputs": [
    {
     "name": "stdout",
     "output_type": "stream",
     "text": [
      "CPU times: user 5min 55s, sys: 180 ms, total: 5min 55s\n",
      "Wall time: 5min 55s\n"
     ]
    }
   ],
   "source": [
    "%%time\n",
    "X_train_word2vec = get_texts_vectors(x_train_no_stem, model, 200)\n",
    "X_test_word2vec = get_texts_vectors(x_test_no_stem, model, 200)"
   ]
  },
  {
   "cell_type": "markdown",
   "metadata": {},
   "source": [
    "#### Don't forget to drop two rows"
   ]
  },
  {
   "cell_type": "code",
   "execution_count": 426,
   "metadata": {
    "collapsed": true
   },
   "outputs": [],
   "source": [
    "pd.DataFrame(X_train_word2vec).to_csv('features/X_train_word2vec.csv.gz', index=False, compression='gzip')\n",
    "pd.DataFrame(X_test_word2vec).to_csv('features/X_test_word2vec.csv.gz', index=False, compression='gzip')"
   ]
  },
  {
   "cell_type": "code",
   "execution_count": 124,
   "metadata": {
    "collapsed": false
   },
   "outputs": [
    {
     "data": {
      "text/plain": [
       "[200, 200, 0, 0]"
      ]
     },
     "execution_count": 124,
     "metadata": {},
     "output_type": "execute_result"
    }
   ],
   "source": [
    "sorted(np.isnan(X_train_word2vec).sum(axis=1), reverse=True)[:4]"
   ]
  },
  {
   "cell_type": "code",
   "execution_count": 125,
   "metadata": {
    "collapsed": false
   },
   "outputs": [
    {
     "data": {
      "text/plain": [
       "[0, 0, 0, 0]"
      ]
     },
     "execution_count": 125,
     "metadata": {},
     "output_type": "execute_result"
    }
   ],
   "source": [
    "sorted(np.isnan(X_test_word2vec).sum(axis=1), reverse=True)[:4]"
   ]
  },
  {
   "cell_type": "markdown",
   "metadata": {},
   "source": [
    "We see that we have two row with all nan in train. Drop it"
   ]
  },
  {
   "cell_type": "code",
   "execution_count": 387,
   "metadata": {
    "collapsed": false
   },
   "outputs": [],
   "source": [
    "not_nan_ind = np.isnan(X_train_word2vec).sum(axis=1) == 0\n",
    "X_train_word2vec_cl = X_train_word2vec[not_nan_ind]\n",
    "y_train_cl = y_train[not_nan_ind]"
   ]
  },
  {
   "cell_type": "code",
   "execution_count": 390,
   "metadata": {
    "collapsed": true
   },
   "outputs": [],
   "source": [
    "tsne = TSNE()\n",
    "points = tsne.fit_transform(X_train_word2vec_cl[:5000])"
   ]
  },
  {
   "cell_type": "code",
   "execution_count": 391,
   "metadata": {
    "collapsed": false
   },
   "outputs": [
    {
     "data": {
      "text/plain": [
       "<matplotlib.collections.PathCollection at 0x7f366c1767f0>"
      ]
     },
     "execution_count": 391,
     "metadata": {},
     "output_type": "execute_result"
    },
    {
     "data": {
      "image/png": "[encoded data removed]",
      "text/plain": [
       "<matplotlib.figure.Figure at 0x7f36302b5780>"
      ]
     },
     "metadata": {},
     "output_type": "display_data"
    }
   ],
   "source": [
    "plt.scatter(points[:, 0], points[:, 1], c=y_train_cl[:5000], alpha=0.8)"
   ]
  },
  {
   "cell_type": "code",
   "execution_count": 403,
   "metadata": {
    "collapsed": false
   },
   "outputs": [
    {
     "name": "stdout",
     "output_type": "stream",
     "text": [
      "CPU times: user 5.01 s, sys: 0 ns, total: 5.01 s\n",
      "Wall time: 5.49 s\n"
     ]
    }
   ],
   "source": [
    "%%time\n",
    "lr = lm.LogisticRegression()\n",
    "lr.fit(X_train_word2vec_cl, y_train_cl)\n",
    "pred = lr.predict(X_test_word2vec)"
   ]
  },
  {
   "cell_type": "code",
   "execution_count": 404,
   "metadata": {
    "collapsed": false
   },
   "outputs": [
    {
     "data": {
      "text/plain": [
       "0.39359923572963934"
      ]
     },
     "execution_count": 404,
     "metadata": {},
     "output_type": "execute_result"
    }
   ],
   "source": [
    "metrics.accuracy_score(y_test, pred)"
   ]
  },
  {
   "cell_type": "code",
   "execution_count": 406,
   "metadata": {
    "collapsed": false
   },
   "outputs": [
    {
     "name": "stdout",
     "output_type": "stream",
     "text": [
      "CPU times: user 10min 48s, sys: 0 ns, total: 10min 48s\n",
      "Wall time: 10min 49s\n"
     ]
    }
   ],
   "source": [
    "%%time\n",
    "lr = ensemble.GradientBoostingClassifier(n_estimators=500)\n",
    "lr.fit(X_train_word2vec_cl, y_train_cl)\n",
    "pred = lr.predict(X_test_word2vec)"
   ]
  },
  {
   "cell_type": "code",
   "execution_count": 407,
   "metadata": {
    "collapsed": false
   },
   "outputs": [
    {
     "data": {
      "text/plain": [
       "0.41939336040124192"
      ]
     },
     "execution_count": 407,
     "metadata": {},
     "output_type": "execute_result"
    }
   ],
   "source": [
    "metrics.accuracy_score(y_test, pred)"
   ]
  },
  {
   "cell_type": "code",
   "execution_count": 408,
   "metadata": {
    "collapsed": false
   },
   "outputs": [
    {
     "data": {
      "text/plain": [
       "<matplotlib.colorbar.Colorbar at 0x7f351d78c080>"
      ]
     },
     "execution_count": 408,
     "metadata": {},
     "output_type": "execute_result"
    },
    {
     "data": {
      "image/png": "[encoded data removed]",
      "text/plain": [
       "<matplotlib.figure.Figure at 0x7f351cfb2fd0>"
      ]
     },
     "metadata": {},
     "output_type": "display_data"
    }
   ],
   "source": [
    "matr = metrics.confusion_matrix(y_test, pred)\n",
    "plt.imshow(matr, interpolation='nearest', cmap=plt.cm.Reds)\n",
    "plt.colorbar()"
   ]
  },
  {
   "cell_type": "code",
   "execution_count": null,
   "metadata": {
    "collapsed": true
   },
   "outputs": [],
   "source": []
  }
 ],
 "metadata": {
  "kernelspec": {
   "display_name": "Python 3",
   "language": "python",
   "name": "python3"
  },
  "language_info": {
   "codemirror_mode": {
    "name": "ipython",
    "version": 3
   },
   "file_extension": ".py",
   "mimetype": "text/x-python",
   "name": "python",
   "nbconvert_exporter": "python",
   "pygments_lexer": "ipython3",
   "version": "3.5.1"
  }
 },
 "nbformat": 4,
 "nbformat_minor": 0
}
